{
 "cells": [
  {
   "cell_type": "code",
   "execution_count": 13,
   "metadata": {},
   "outputs": [],
   "source": [
    "import numpy as np\n",
    "import pandas as pd\n",
    "import pickle as pk\n",
    "\n",
    "from pipeline import GeoLifePostprocessor, GeoLifeXGB"
   ]
  },
  {
   "cell_type": "code",
   "execution_count": 14,
   "metadata": {},
   "outputs": [],
   "source": [
    "xgb = GeoLifeXGB(3)"
   ]
  },
  {
   "cell_type": "code",
   "execution_count": 15,
   "metadata": {},
   "outputs": [
    {
     "name": "stdout",
     "output_type": "stream",
     "text": [
      "(4716, 1141)\n",
      "1141\n"
     ]
    }
   ],
   "source": [
    "xgb_out = pk.load(open(f\"xgbout_seed_3.pkl\", \"rb\"))\n",
    "\n",
    "print(xgb_out.shape)\n",
    "print(len(xgb.yy_cols))\n",
    "\n",
    "xgb_out = pd.DataFrame(xgb_out, index=xgb.test.index, columns=xgb.yy_cols)\n",
    "\n",
    "mm_out = pk.load(open(\"pred_improved_norm_df.pkl\", \"rb\"))\n",
    "# mm_out = pk.load(open(\"mm-resnet.pkl\", \"rb\"))\n",
    "mm_out = mm_out[xgb_out.columns]\n",
    "mm_out.index = xgb_out.index"
   ]
  },
  {
   "cell_type": "code",
   "execution_count": 16,
   "metadata": {},
   "outputs": [
    {
     "data": {
      "text/html": [
       "<div>\n",
       "<style scoped>\n",
       "    .dataframe tbody tr th:only-of-type {\n",
       "        vertical-align: middle;\n",
       "    }\n",
       "\n",
       "    .dataframe tbody tr th {\n",
       "        vertical-align: top;\n",
       "    }\n",
       "\n",
       "    .dataframe thead th {\n",
       "        text-align: right;\n",
       "    }\n",
       "</style>\n",
       "<table border=\"1\" class=\"dataframe\">\n",
       "  <thead>\n",
       "    <tr style=\"text-align: right;\">\n",
       "      <th></th>\n",
       "      <th>speciesId_9</th>\n",
       "      <th>speciesId_12</th>\n",
       "      <th>speciesId_30</th>\n",
       "      <th>speciesId_32</th>\n",
       "      <th>speciesId_48</th>\n",
       "      <th>speciesId_51</th>\n",
       "      <th>speciesId_53</th>\n",
       "      <th>speciesId_87</th>\n",
       "      <th>speciesId_96</th>\n",
       "      <th>speciesId_114</th>\n",
       "      <th>...</th>\n",
       "      <th>speciesId_11176</th>\n",
       "      <th>speciesId_11178</th>\n",
       "      <th>speciesId_11188</th>\n",
       "      <th>speciesId_11193</th>\n",
       "      <th>speciesId_11195</th>\n",
       "      <th>speciesId_11198</th>\n",
       "      <th>speciesId_11215</th>\n",
       "      <th>speciesId_11222</th>\n",
       "      <th>speciesId_11238</th>\n",
       "      <th>speciesId_11240</th>\n",
       "    </tr>\n",
       "    <tr>\n",
       "      <th>surveyId</th>\n",
       "      <th></th>\n",
       "      <th></th>\n",
       "      <th></th>\n",
       "      <th></th>\n",
       "      <th></th>\n",
       "      <th></th>\n",
       "      <th></th>\n",
       "      <th></th>\n",
       "      <th></th>\n",
       "      <th></th>\n",
       "      <th></th>\n",
       "      <th></th>\n",
       "      <th></th>\n",
       "      <th></th>\n",
       "      <th></th>\n",
       "      <th></th>\n",
       "      <th></th>\n",
       "      <th></th>\n",
       "      <th></th>\n",
       "      <th></th>\n",
       "      <th></th>\n",
       "    </tr>\n",
       "  </thead>\n",
       "  <tbody>\n",
       "    <tr>\n",
       "      <th>642</th>\n",
       "      <td>0.000027</td>\n",
       "      <td>1.240455e-06</td>\n",
       "      <td>0.000030</td>\n",
       "      <td>0.000069</td>\n",
       "      <td>4.910759e-07</td>\n",
       "      <td>0.000013</td>\n",
       "      <td>0.096720</td>\n",
       "      <td>0.000109</td>\n",
       "      <td>0.000336</td>\n",
       "      <td>1.177195e-05</td>\n",
       "      <td>...</td>\n",
       "      <td>0.000063</td>\n",
       "      <td>0.000026</td>\n",
       "      <td>1.268355e-06</td>\n",
       "      <td>0.000036</td>\n",
       "      <td>0.203398</td>\n",
       "      <td>9.761199e-06</td>\n",
       "      <td>0.000013</td>\n",
       "      <td>0.000003</td>\n",
       "      <td>0.000002</td>\n",
       "      <td>0.000006</td>\n",
       "    </tr>\n",
       "    <tr>\n",
       "      <th>1792</th>\n",
       "      <td>0.000039</td>\n",
       "      <td>2.769454e-01</td>\n",
       "      <td>0.000014</td>\n",
       "      <td>0.000089</td>\n",
       "      <td>7.064180e-04</td>\n",
       "      <td>0.001755</td>\n",
       "      <td>0.000609</td>\n",
       "      <td>0.000037</td>\n",
       "      <td>0.000677</td>\n",
       "      <td>2.718377e-03</td>\n",
       "      <td>...</td>\n",
       "      <td>0.000049</td>\n",
       "      <td>0.000016</td>\n",
       "      <td>1.249787e-03</td>\n",
       "      <td>0.001512</td>\n",
       "      <td>0.000850</td>\n",
       "      <td>1.463145e-05</td>\n",
       "      <td>0.000033</td>\n",
       "      <td>0.000133</td>\n",
       "      <td>0.000091</td>\n",
       "      <td>0.000545</td>\n",
       "    </tr>\n",
       "    <tr>\n",
       "      <th>3256</th>\n",
       "      <td>0.000890</td>\n",
       "      <td>4.217712e-07</td>\n",
       "      <td>0.000141</td>\n",
       "      <td>0.000057</td>\n",
       "      <td>2.346213e-06</td>\n",
       "      <td>0.000062</td>\n",
       "      <td>0.000194</td>\n",
       "      <td>0.000007</td>\n",
       "      <td>0.187759</td>\n",
       "      <td>9.080164e-07</td>\n",
       "      <td>...</td>\n",
       "      <td>0.000102</td>\n",
       "      <td>0.003683</td>\n",
       "      <td>5.717348e-07</td>\n",
       "      <td>0.000003</td>\n",
       "      <td>0.001519</td>\n",
       "      <td>8.290456e-07</td>\n",
       "      <td>0.000030</td>\n",
       "      <td>0.000304</td>\n",
       "      <td>0.000005</td>\n",
       "      <td>0.000151</td>\n",
       "    </tr>\n",
       "    <tr>\n",
       "      <th>3855</th>\n",
       "      <td>0.001456</td>\n",
       "      <td>2.210862e-03</td>\n",
       "      <td>0.000033</td>\n",
       "      <td>0.000009</td>\n",
       "      <td>2.034457e-05</td>\n",
       "      <td>0.000053</td>\n",
       "      <td>0.041007</td>\n",
       "      <td>0.000014</td>\n",
       "      <td>0.707393</td>\n",
       "      <td>2.957977e-05</td>\n",
       "      <td>...</td>\n",
       "      <td>0.000034</td>\n",
       "      <td>0.000168</td>\n",
       "      <td>1.184684e-05</td>\n",
       "      <td>0.000033</td>\n",
       "      <td>0.003516</td>\n",
       "      <td>2.139707e-05</td>\n",
       "      <td>0.000017</td>\n",
       "      <td>0.000640</td>\n",
       "      <td>0.000002</td>\n",
       "      <td>0.000301</td>\n",
       "    </tr>\n",
       "    <tr>\n",
       "      <th>4889</th>\n",
       "      <td>0.000638</td>\n",
       "      <td>1.037767e-06</td>\n",
       "      <td>0.000038</td>\n",
       "      <td>0.000024</td>\n",
       "      <td>2.797023e-06</td>\n",
       "      <td>0.000044</td>\n",
       "      <td>0.293969</td>\n",
       "      <td>0.000006</td>\n",
       "      <td>0.040887</td>\n",
       "      <td>6.634355e-06</td>\n",
       "      <td>...</td>\n",
       "      <td>0.000023</td>\n",
       "      <td>0.000002</td>\n",
       "      <td>4.303697e-07</td>\n",
       "      <td>0.000070</td>\n",
       "      <td>0.003051</td>\n",
       "      <td>5.587198e-08</td>\n",
       "      <td>0.000013</td>\n",
       "      <td>0.000010</td>\n",
       "      <td>0.000001</td>\n",
       "      <td>0.000003</td>\n",
       "    </tr>\n",
       "  </tbody>\n",
       "</table>\n",
       "<p>5 rows × 1141 columns</p>\n",
       "</div>"
      ],
      "text/plain": [
       "          speciesId_9  speciesId_12  speciesId_30  speciesId_32  speciesId_48  \\\n",
       "surveyId                                                                        \n",
       "642          0.000027  1.240455e-06      0.000030      0.000069  4.910759e-07   \n",
       "1792         0.000039  2.769454e-01      0.000014      0.000089  7.064180e-04   \n",
       "3256         0.000890  4.217712e-07      0.000141      0.000057  2.346213e-06   \n",
       "3855         0.001456  2.210862e-03      0.000033      0.000009  2.034457e-05   \n",
       "4889         0.000638  1.037767e-06      0.000038      0.000024  2.797023e-06   \n",
       "\n",
       "          speciesId_51  speciesId_53  speciesId_87  speciesId_96  \\\n",
       "surveyId                                                           \n",
       "642           0.000013      0.096720      0.000109      0.000336   \n",
       "1792          0.001755      0.000609      0.000037      0.000677   \n",
       "3256          0.000062      0.000194      0.000007      0.187759   \n",
       "3855          0.000053      0.041007      0.000014      0.707393   \n",
       "4889          0.000044      0.293969      0.000006      0.040887   \n",
       "\n",
       "          speciesId_114  ...  speciesId_11176  speciesId_11178  \\\n",
       "surveyId                 ...                                     \n",
       "642        1.177195e-05  ...         0.000063         0.000026   \n",
       "1792       2.718377e-03  ...         0.000049         0.000016   \n",
       "3256       9.080164e-07  ...         0.000102         0.003683   \n",
       "3855       2.957977e-05  ...         0.000034         0.000168   \n",
       "4889       6.634355e-06  ...         0.000023         0.000002   \n",
       "\n",
       "          speciesId_11188  speciesId_11193  speciesId_11195  speciesId_11198  \\\n",
       "surveyId                                                                       \n",
       "642          1.268355e-06         0.000036         0.203398     9.761199e-06   \n",
       "1792         1.249787e-03         0.001512         0.000850     1.463145e-05   \n",
       "3256         5.717348e-07         0.000003         0.001519     8.290456e-07   \n",
       "3855         1.184684e-05         0.000033         0.003516     2.139707e-05   \n",
       "4889         4.303697e-07         0.000070         0.003051     5.587198e-08   \n",
       "\n",
       "          speciesId_11215  speciesId_11222  speciesId_11238  speciesId_11240  \n",
       "surveyId                                                                      \n",
       "642              0.000013         0.000003         0.000002         0.000006  \n",
       "1792             0.000033         0.000133         0.000091         0.000545  \n",
       "3256             0.000030         0.000304         0.000005         0.000151  \n",
       "3855             0.000017         0.000640         0.000002         0.000301  \n",
       "4889             0.000013         0.000010         0.000001         0.000003  \n",
       "\n",
       "[5 rows x 1141 columns]"
      ]
     },
     "execution_count": 16,
     "metadata": {},
     "output_type": "execute_result"
    }
   ],
   "source": [
    "mm_out.head()"
   ]
  },
  {
   "cell_type": "code",
   "execution_count": 17,
   "metadata": {},
   "outputs": [],
   "source": [
    "# for count_amount in [15, 17, 19, 21, 23, 25]:\n",
    "#     counts = np.zeros(xgb_out.shape[0], dtype=int) + count_amount \n",
    "#     postproc = GeoLifePostprocessor([xgb_out, mm_out,], [5, 4,], counts)\n",
    "#     postproc.save(f\"xgbmm_5_4_{count_amount}_\")"
   ]
  },
  {
   "cell_type": "code",
   "execution_count": 19,
   "metadata": {},
   "outputs": [
    {
     "name": "stdout",
     "output_type": "stream",
     "text": [
      "Saved to: submissions/mm_0_2024-06-22_21-29.csv\n",
      "Saved to: submissions/mm_2_2024-06-22_21-29.csv\n",
      "Saved to: submissions/mm_2.5_2024-06-22_21-29.csv\n",
      "Saved to: submissions/mm_3_2024-06-22_21-29.csv\n",
      "Saved to: submissions/mm_3.5_2024-06-22_21-29.csv\n",
      "Saved to: submissions/mm_4_2024-06-22_21-29.csv\n",
      "Saved to: submissions/mm_4.5_2024-06-22_21-29.csv\n",
      "Saved to: submissions/mm_5_2024-06-22_21-29.csv\n"
     ]
    }
   ],
   "source": [
    "for idx in [0, 2, 2.5, 3, 3.5, 4, 4.5, 5]:\n",
    "    counts = pk.load(open(f\"counts_plus_{idx}_.pkl\", \"rb\"))\n",
    "    postproc = GeoLifePostprocessor([mm_out, xgb_out], [5, 4], counts)\n",
    "    postproc.save(f\"mm_{idx}_\")"
   ]
  },
  {
   "cell_type": "code",
   "execution_count": null,
   "metadata": {},
   "outputs": [],
   "source": [
    "counts = []\n",
    "for idx in [0, 2, 2.5, 3, 2.5, 4]:\n",
    "    counts.append(pk.load(open(f\"counts_plus_{idx}_.pkl\", \"rb\")))\n"
   ]
  },
  {
   "cell_type": "code",
   "execution_count": null,
   "metadata": {},
   "outputs": [
    {
     "data": {
      "text/plain": [
       "15.39647104037618"
      ]
     },
     "execution_count": 11,
     "metadata": {},
     "output_type": "execute_result"
    }
   ],
   "source": [
    "xgb.train[xgb.yy_cols].sum(axis=1).mean()"
   ]
  },
  {
   "cell_type": "code",
   "execution_count": null,
   "metadata": {},
   "outputs": [
    {
     "data": {
      "text/plain": [
       "15.76208651399491"
      ]
     },
     "execution_count": 12,
     "metadata": {},
     "output_type": "execute_result"
    }
   ],
   "source": [
    "counts = pk.load(open(f\"counts_plus_0_.pkl\", \"rb\"))\n",
    "counts.mean()"
   ]
  }
 ],
 "metadata": {
  "kernelspec": {
   "display_name": ".venv",
   "language": "python",
   "name": "python3"
  },
  "language_info": {
   "codemirror_mode": {
    "name": "ipython",
    "version": 3
   },
   "file_extension": ".py",
   "mimetype": "text/x-python",
   "name": "python",
   "nbconvert_exporter": "python",
   "pygments_lexer": "ipython3",
   "version": "3.12.3"
  }
 },
 "nbformat": 4,
 "nbformat_minor": 2
}
