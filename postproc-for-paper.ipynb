{
 "cells": [
  {
   "cell_type": "code",
   "execution_count": 7,
   "metadata": {},
   "outputs": [],
   "source": [
    "import numpy as np\n",
    "import pandas as pd\n",
    "import pickle as pk\n",
    "\n",
    "from pipeline import GeoLifePostprocessor, GeoLifeXGB"
   ]
  },
  {
   "cell_type": "code",
   "execution_count": 8,
   "metadata": {},
   "outputs": [],
   "source": [
    "xgb = GeoLifeXGB(3)"
   ]
  },
  {
   "cell_type": "code",
   "execution_count": 9,
   "metadata": {},
   "outputs": [],
   "source": [
    "xgb_out = pk.load(open(f\"xgbout_seed_3.pkl\", \"rb\"))\n",
    "xgb_out = pd.DataFrame(xgb_out, index=xgb.test.index, columns=xgb.yy_cols)"
   ]
  },
  {
   "cell_type": "code",
   "execution_count": 10,
   "metadata": {},
   "outputs": [
    {
     "name": "stdout",
     "output_type": "stream",
     "text": [
      "Saved to: submissions/xgb_plus_15_2024-06-07_14-59.csv\n",
      "Saved to: submissions/xgb_plus_17_2024-06-07_14-59.csv\n",
      "Saved to: submissions/xgb_plus_19_2024-06-07_14-59.csv\n",
      "Saved to: submissions/xgb_plus_21_2024-06-07_14-59.csv\n",
      "Saved to: submissions/xgb_plus_23_2024-06-07_14-59.csv\n",
      "Saved to: submissions/xgb_plus_25_2024-06-07_14-59.csv\n"
     ]
    }
   ],
   "source": [
    "for count_amount in [15, 17, 19, 21, 23, 25]:\n",
    "    counts = np.zeros(xgb_out.shape[0], dtype=int) + count_amount \n",
    "    postproc = GeoLifePostprocessor([xgb_out,], [1,], counts)\n",
    "    postproc.save(f\"xgb_plus_{count_amount}_\")"
   ]
  },
  {
   "cell_type": "code",
   "execution_count": 15,
   "metadata": {},
   "outputs": [
    {
     "name": "stdout",
     "output_type": "stream",
     "text": [
      "Saved to: submissions/xgb_smart_plus_0_2024-06-07_15-26.csv\n",
      "Saved to: submissions/xgb_smart_plus_2_2024-06-07_15-26.csv\n",
      "Saved to: submissions/xgb_smart_plus_2.5_2024-06-07_15-26.csv\n",
      "Saved to: submissions/xgb_smart_plus_3_2024-06-07_15-26.csv\n",
      "Saved to: submissions/xgb_smart_plus_3.5_2024-06-07_15-26.csv\n",
      "Saved to: submissions/xgb_smart_plus_4_2024-06-07_15-26.csv\n",
      "Saved to: submissions/xgb_smart_plus_4.5_2024-06-07_15-26.csv\n",
      "Saved to: submissions/xgb_smart_plus_5_2024-06-07_15-26.csv\n"
     ]
    }
   ],
   "source": [
    "for idx in [0, 2, 2.5, 3, 3.5, 4, 4.5, 5]:\n",
    "    counts = pk.load(open(f\"counts_plus_{idx}_.pkl\", \"rb\"))\n",
    "    postproc = GeoLifePostprocessor([xgb_out,], [1,], counts)\n",
    "    postproc.save(f\"xgb_smart_plus_{idx}_\")"
   ]
  },
  {
   "cell_type": "code",
   "execution_count": 13,
   "metadata": {},
   "outputs": [],
   "source": [
    "counts = []\n",
    "for idx in [0, 2, 2.5, 3, 2.5, 4]:\n",
    "    counts.append(pk.load(open(f\"counts_plus_{idx}_.pkl\", \"rb\")))\n"
   ]
  },
  {
   "cell_type": "code",
   "execution_count": 19,
   "metadata": {},
   "outputs": [
    {
     "data": {
      "text/plain": [
       "15.39647104037618"
      ]
     },
     "execution_count": 19,
     "metadata": {},
     "output_type": "execute_result"
    }
   ],
   "source": [
    "xgb.train[xgb.yy_cols].sum(axis=1).mean()"
   ]
  },
  {
   "cell_type": "code",
   "execution_count": 20,
   "metadata": {},
   "outputs": [
    {
     "data": {
      "text/plain": [
       "15.76208651399491"
      ]
     },
     "execution_count": 20,
     "metadata": {},
     "output_type": "execute_result"
    }
   ],
   "source": [
    "counts = pk.load(open(f\"counts_plus_0_.pkl\", \"rb\"))\n",
    "counts.mean()"
   ]
  }
 ],
 "metadata": {
  "kernelspec": {
   "display_name": ".venv",
   "language": "python",
   "name": "python3"
  },
  "language_info": {
   "codemirror_mode": {
    "name": "ipython",
    "version": 3
   },
   "file_extension": ".py",
   "mimetype": "text/x-python",
   "name": "python",
   "nbconvert_exporter": "python",
   "pygments_lexer": "ipython3",
   "version": "3.12.3"
  }
 },
 "nbformat": 4,
 "nbformat_minor": 2
}
