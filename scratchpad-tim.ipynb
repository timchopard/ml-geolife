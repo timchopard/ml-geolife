{
 "cells": [
  {
   "cell_type": "code",
   "execution_count": 17,
   "metadata": {},
   "outputs": [
    {
     "name": "stdout",
     "output_type": "stream",
     "text": [
      "Num GPUs Available:  1\n"
     ]
    }
   ],
   "source": [
    "import tensorflow as tf\n",
    "import pandas as pd\n",
    "import numpy as np\n",
    "import keras \n",
    "\n",
    "from keras import layers\n",
    "from sklearn.model_selection import train_test_split\n",
    "\n",
    "print(\"Num GPUs Available: \", len(tf.config.list_physical_devices('GPU')))"
   ]
  },
  {
   "cell_type": "code",
   "execution_count": 8,
   "metadata": {},
   "outputs": [
    {
     "name": "stdout",
     "output_type": "stream",
     "text": [
      "Index([      'lon',       'lat',      'year',  'areaInM2', 'speciesId',\n",
      "       'elevation',    'ALPINE',  'ATLANTIC', 'BLACK SEA',    'BOREAL',\n",
      "       ...\n",
      "             11239,       11240,       11241,       11242,       11243,\n",
      "             11245,       11246,       11248,       11253,       11254],\n",
      "      dtype='object', length=5059)\n"
     ]
    }
   ],
   "source": [
    "train_numerical = pd.read_pickle(\"processed_data/GLC24_PA_metadata_train_elevation_onehot_grouped.pkl\")\n",
    "print(train_numerical.columns)\n",
    "if \"speciesId\" in train_numerical.columns:\n",
    "    train_numerical = train_numerical.drop(columns=[\"speciesId\"], axis=0)\n",
    "cols = train_numerical.columns\n",
    "train_numerical = train_numerical.to_numpy()\n"
   ]
  },
  {
   "cell_type": "code",
   "execution_count": 9,
   "metadata": {},
   "outputs": [
    {
     "name": "stdout",
     "output_type": "stream",
     "text": [
      "(88987, 5058)\n",
      "Index(['lon', 'lat', 'year', 'areaInM2', 'elevation', 'ALPINE', 'ATLANTIC',\n",
      "       'BLACK SEA', 'BOREAL', 'CONTINENTAL', 'MEDITERRANEAN', 'PANNONIAN',\n",
      "       'STEPPIC', 'Andorra', 'Austria', 'Belgium', 'Bosnia and Herzegovina',\n",
      "       'Bulgaria', 'Croatia', 'Czech Republic', 'Denmark', 'France', 'Germany',\n",
      "       'Greece', 'Hungary', 'Ireland', 'Italy', 'Latvia', 'Luxembourg',\n",
      "       'Monaco', 'Montenegro', 'Netherlands', 'Norway', 'Poland', 'Portugal',\n",
      "       'Romania', 'Serbia', 'Slovakia', 'Slovenia', 'Spain', 'Switzerland',\n",
      "       'The former Yugoslav Republic of Macedonia'],\n",
      "      dtype='object')\n"
     ]
    }
   ],
   "source": [
    "print(train_numerical.shape)\n",
    "print(cols[:42])"
   ]
  },
  {
   "cell_type": "code",
   "execution_count": 10,
   "metadata": {},
   "outputs": [],
   "source": [
    "xx = train_numerical[:, :42]\n",
    "yy = train_numerical[:, 42:]\n",
    "train_numerical = None          # No longer needed, send to garbage collector to save memory"
   ]
  },
  {
   "cell_type": "code",
   "execution_count": 11,
   "metadata": {},
   "outputs": [],
   "source": [
    "img = np.load(\"processed_images/train_rgbnir.npz\", allow_pickle=True)[\"arr_0\"]"
   ]
  },
  {
   "cell_type": "code",
   "execution_count": 12,
   "metadata": {},
   "outputs": [],
   "source": [
    "X_train_table, X_val_table, X_train_image, X_val_image, y_train, y_val = train_test_split(xx, img, yy, test_size=0.2, shuffle=True, random_state=113)\n",
    "\n",
    "img = None \n",
    "xx = None \n",
    "yy = None"
   ]
  },
  {
   "cell_type": "code",
   "execution_count": 13,
   "metadata": {},
   "outputs": [
    {
     "name": "stdout",
     "output_type": "stream",
     "text": [
      "(71189, 42)\n",
      "(17798, 42)\n",
      "(71189, 128, 128, 6)\n",
      "(17798, 128, 128, 6)\n",
      "(71189, 5016)\n",
      "(17798, 5016)\n"
     ]
    }
   ],
   "source": [
    "print(X_train_table.shape)\n",
    "print(X_val_table.shape)\n",
    "print(X_train_image.shape)\n",
    "print(X_val_image.shape)\n",
    "print(y_train.shape)\n",
    "print(y_val.shape)"
   ]
  },
  {
   "cell_type": "code",
   "execution_count": 14,
   "metadata": {},
   "outputs": [
    {
     "name": "stdout",
     "output_type": "stream",
     "text": [
      "Model: \"model\"\n",
      "__________________________________________________________________________________________________\n",
      " Layer (type)                Output Shape                 Param #   Connected to                  \n",
      "==================================================================================================\n",
      " input_2 (InputLayer)        [(None, 128, 128, 6)]        0         []                            \n",
      "                                                                                                  \n",
      " dense_1 (Dense)             (None, 128, 128, 64)         448       ['input_2[0][0]']             \n",
      "                                                                                                  \n",
      " input_1 (InputLayer)        [(None, 42)]                 0         []                            \n",
      "                                                                                                  \n",
      " conv2d (Conv2D)             (None, 126, 126, 64)         36928     ['dense_1[0][0]']             \n",
      "                                                                                                  \n",
      " dense (Dense)               (None, 64)                   2752      ['input_1[0][0]']             \n",
      "                                                                                                  \n",
      " flatten (Flatten)           (None, 1016064)              0         ['conv2d[0][0]']              \n",
      "                                                                                                  \n",
      " concatenate (Concatenate)   (None, 1016128)              0         ['dense[0][0]',               \n",
      "                                                                     'flatten[0][0]']             \n",
      "                                                                                                  \n",
      " dense_2 (Dense)             (None, 64)                   6503225   ['concatenate[0][0]']         \n",
      "                                                          6                                       \n",
      "                                                                                                  \n",
      "==================================================================================================\n",
      "Total params: 65072384 (248.23 MB)\n",
      "Trainable params: 65072384 (248.23 MB)\n",
      "Non-trainable params: 0 (0.00 Byte)\n",
      "__________________________________________________________________________________________________\n"
     ]
    },
    {
     "name": "stderr",
     "output_type": "stream",
     "text": [
      "2024-04-08 18:02:03.544000: I external/local_xla/xla/stream_executor/cuda/cuda_executor.cc:901] successful NUMA node read from SysFS had negative value (-1), but there must be at least one NUMA node, so returning NUMA node zero. See more at https://github.com/torvalds/linux/blob/v6.0/Documentation/ABI/testing/sysfs-bus-pci#L344-L355\n",
      "2024-04-08 18:02:03.687471: I external/local_xla/xla/stream_executor/cuda/cuda_executor.cc:901] successful NUMA node read from SysFS had negative value (-1), but there must be at least one NUMA node, so returning NUMA node zero. See more at https://github.com/torvalds/linux/blob/v6.0/Documentation/ABI/testing/sysfs-bus-pci#L344-L355\n",
      "2024-04-08 18:02:03.687686: I external/local_xla/xla/stream_executor/cuda/cuda_executor.cc:901] successful NUMA node read from SysFS had negative value (-1), but there must be at least one NUMA node, so returning NUMA node zero. See more at https://github.com/torvalds/linux/blob/v6.0/Documentation/ABI/testing/sysfs-bus-pci#L344-L355\n",
      "2024-04-08 18:02:03.689432: I external/local_xla/xla/stream_executor/cuda/cuda_executor.cc:901] successful NUMA node read from SysFS had negative value (-1), but there must be at least one NUMA node, so returning NUMA node zero. See more at https://github.com/torvalds/linux/blob/v6.0/Documentation/ABI/testing/sysfs-bus-pci#L344-L355\n",
      "2024-04-08 18:02:03.689632: I external/local_xla/xla/stream_executor/cuda/cuda_executor.cc:901] successful NUMA node read from SysFS had negative value (-1), but there must be at least one NUMA node, so returning NUMA node zero. See more at https://github.com/torvalds/linux/blob/v6.0/Documentation/ABI/testing/sysfs-bus-pci#L344-L355\n",
      "2024-04-08 18:02:03.689815: I external/local_xla/xla/stream_executor/cuda/cuda_executor.cc:901] successful NUMA node read from SysFS had negative value (-1), but there must be at least one NUMA node, so returning NUMA node zero. See more at https://github.com/torvalds/linux/blob/v6.0/Documentation/ABI/testing/sysfs-bus-pci#L344-L355\n",
      "2024-04-08 18:02:03.745061: I external/local_xla/xla/stream_executor/cuda/cuda_executor.cc:901] successful NUMA node read from SysFS had negative value (-1), but there must be at least one NUMA node, so returning NUMA node zero. See more at https://github.com/torvalds/linux/blob/v6.0/Documentation/ABI/testing/sysfs-bus-pci#L344-L355\n",
      "2024-04-08 18:02:03.745298: I external/local_xla/xla/stream_executor/cuda/cuda_executor.cc:901] successful NUMA node read from SysFS had negative value (-1), but there must be at least one NUMA node, so returning NUMA node zero. See more at https://github.com/torvalds/linux/blob/v6.0/Documentation/ABI/testing/sysfs-bus-pci#L344-L355\n",
      "2024-04-08 18:02:03.745490: I external/local_xla/xla/stream_executor/cuda/cuda_executor.cc:901] successful NUMA node read from SysFS had negative value (-1), but there must be at least one NUMA node, so returning NUMA node zero. See more at https://github.com/torvalds/linux/blob/v6.0/Documentation/ABI/testing/sysfs-bus-pci#L344-L355\n",
      "2024-04-08 18:02:03.745614: I tensorflow/core/common_runtime/gpu/gpu_device.cc:1929] Created device /job:localhost/replica:0/task:0/device:GPU:0 with 3233 MB memory:  -> device: 0, name: NVIDIA GeForce RTX 3070 Ti, pci bus id: 0000:07:00.0, compute capability: 8.6\n"
     ]
    }
   ],
   "source": [
    "table_in = keras.Input(shape=(42,))\n",
    "table_dense = layers.Dense(64)(table_in)\n",
    "\n",
    "image_in = keras.Input(shape=(128, 128, 6))\n",
    "image_dense = layers.Dense(64)(image_in)\n",
    "image_conv = layers.Conv2D(64, (3, 3))(image_dense)\n",
    "image_flat = layers.Flatten()(image_conv)\n",
    "\n",
    "combination = layers.Concatenate()([table_dense, image_flat])\n",
    "output = layers.Dense(64)(combination)\n",
    "\n",
    "model = keras.Model(inputs=[table_in, image_in], outputs=output)\n",
    "\n",
    "model.summary()"
   ]
  },
  {
   "cell_type": "code",
   "execution_count": 15,
   "metadata": {},
   "outputs": [],
   "source": [
    "model.compile(\n",
    "    optimizer='adam',\n",
    "    loss=keras.losses.SparseCategoricalCrossentropy(from_logits=True),\n",
    "    metrics=['accuracy']\n",
    ")"
   ]
  },
  {
   "cell_type": "code",
   "execution_count": 18,
   "metadata": {},
   "outputs": [
    {
     "ename": "",
     "evalue": "",
     "output_type": "error",
     "traceback": [
      "\u001b[1;31mThe Kernel crashed while executing code in the current cell or a previous cell. \n",
      "\u001b[1;31mPlease review the code in the cell(s) to identify a possible cause of the failure. \n",
      "\u001b[1;31mClick <a href='https://aka.ms/vscodeJupyterKernelCrash'>here</a> for more info. \n",
      "\u001b[1;31mView Jupyter <a href='command:jupyter.viewOutput'>log</a> for further details."
     ]
    }
   ],
   "source": [
    "model.fit(x=[X_train_table, X_train_image], y=y_train, validation_data=([X_val_table, X_val_image], y_val), epochs=10, batch_size=32)"
   ]
  },
  {
   "cell_type": "code",
   "execution_count": null,
   "metadata": {},
   "outputs": [],
   "source": []
  }
 ],
 "metadata": {
  "kernelspec": {
   "display_name": "geolife",
   "language": "python",
   "name": "python3"
  },
  "language_info": {
   "codemirror_mode": {
    "name": "ipython",
    "version": 3
   },
   "file_extension": ".py",
   "mimetype": "text/x-python",
   "name": "python",
   "nbconvert_exporter": "python",
   "pygments_lexer": "ipython3",
   "version": "3.11.8"
  }
 },
 "nbformat": 4,
 "nbformat_minor": 2
}
