{
 "cells": [
  {
   "cell_type": "code",
   "execution_count": 1,
   "metadata": {},
   "outputs": [],
   "source": [
    "import pickle as pk\n",
    "from pipeline import GeoLifePostprocessor, GeoLifeOutputLoader"
   ]
  },
  {
   "cell_type": "code",
   "execution_count": 2,
   "metadata": {},
   "outputs": [],
   "source": [
    "species = [\n",
    "    col for col in pk.load(open(\"data/processed/train.pkl\", \"rb\")) if \"species\" in col\n",
    "]\n",
    "surveys = pk.load(open(\"data/processed/test.pkl\", \"rb\")).index "
   ]
  },
  {
   "cell_type": "code",
   "execution_count": null,
   "metadata": {},
   "outputs": [],
   "source": [
    "loader = GeoLifeOutputLoader(species=species, surveys=surveys)"
   ]
  },
  {
   "cell_type": "code",
   "execution_count": 3,
   "metadata": {},
   "outputs": [],
   "source": [
    "model_output_list = loader.load_outputs([\n",
    "        \"vit.pkl\",\n",
    "        \"pred_improved_norm_df.pkl\",\n",
    "        \"xgbout_seed_3.pkl\",\n",
    "])\n",
    "\n",
    "model_weights = [1, 2, 3]\n",
    "\n",
    "counts = loader.load_counts(\"counts_seed_3.pkl\")\n",
    "post = GeoLifePostprocessor(\n",
    "    model_output_list,\n",
    "    model_weights,\n",
    "    counts \n",
    ")"
   ]
  }
 ],
 "metadata": {
  "kernelspec": {
   "display_name": ".venv",
   "language": "python",
   "name": "python3"
  },
  "language_info": {
   "codemirror_mode": {
    "name": "ipython",
    "version": 3
   },
   "file_extension": ".py",
   "mimetype": "text/x-python",
   "name": "python",
   "nbconvert_exporter": "python",
   "pygments_lexer": "ipython3",
   "version": "3.12.3"
  }
 },
 "nbformat": 4,
 "nbformat_minor": 2
}
