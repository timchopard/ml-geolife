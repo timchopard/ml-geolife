{
 "cells": [
  {
   "cell_type": "code",
   "execution_count": 1,
   "metadata": {},
   "outputs": [],
   "source": [
    "import pandas as pd\n",
    "from sklearn.ensemble import RandomForestClassifier, RandomForestRegressor\n",
    "from sklearn.metrics import f1_score, mean_squared_error"
   ]
  },
  {
   "cell_type": "code",
   "execution_count": 2,
   "metadata": {},
   "outputs": [],
   "source": [
    "X_train = pd.read_pickle('output/train_X.pkl')\n",
    "y_train = pd.read_pickle('output/train_y.pkl')\n",
    "y_train_count = pd.read_pickle('output/train_y_count.pkl')\n",
    "X_test = pd.read_pickle('output/test_X.pkl')\n",
    "y_test = pd.read_pickle('output/test_y.pkl')\n",
    "y_test_count = pd.read_pickle('output/test_y_count.pkl')"
   ]
  },
  {
   "cell_type": "code",
   "execution_count": 3,
   "metadata": {},
   "outputs": [
    {
     "data": {
      "text/plain": [
       "0.36841083793693813"
      ]
     },
     "execution_count": 3,
     "metadata": {},
     "output_type": "execute_result"
    }
   ],
   "source": [
    "\n",
    "model_rfc = RandomForestClassifier()\n",
    "model_rfc.fit(X_train, y_train)\n",
    "pred_rfc = model_rfc.predict(X_test)\n",
    "f1_score(y_test, pred_rfc, average='micro')"
   ]
  },
  {
   "cell_type": "code",
   "execution_count": 4,
   "metadata": {},
   "outputs": [
    {
     "data": {
      "text/plain": [
       "34.67032386372619"
      ]
     },
     "execution_count": 4,
     "metadata": {},
     "output_type": "execute_result"
    }
   ],
   "source": [
    "model_rfr = RandomForestRegressor()\n",
    "model_rfr.fit(X_train, y_train_count)\n",
    "pred_rfr = model_rfr.predict(X_test)\n",
    "mean_squared_error(y_test_count, pred_rfr)"
   ]
  }
 ],
 "metadata": {
  "kernelspec": {
   "display_name": "geolife",
   "language": "python",
   "name": "python3"
  },
  "language_info": {
   "codemirror_mode": {
    "name": "ipython",
    "version": 3
   },
   "file_extension": ".py",
   "mimetype": "text/x-python",
   "name": "python",
   "nbconvert_exporter": "python",
   "pygments_lexer": "ipython3",
   "version": "3.11.8"
  }
 },
 "nbformat": 4,
 "nbformat_minor": 2
}
