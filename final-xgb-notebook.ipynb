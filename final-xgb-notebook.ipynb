{
 "cells": [
  {
   "cell_type": "code",
   "execution_count": null,
   "metadata": {},
   "outputs": [],
   "source": [
    "import pandas as pd\n",
    "import pickle as pk\n",
    "from pipeline2 import GeoLifeXGB\n",
    "from pipeline2 import GeoLifePostprocessor"
   ]
  },
  {
   "cell_type": "code",
   "execution_count": null,
   "metadata": {},
   "outputs": [],
   "source": [
    "SEED = 3\n",
    "# SEED = 5 \n",
    "# SEED = 11\n",
    "# SEED = 31 \n",
    "# SEED = 127 "
   ]
  },
  {
   "cell_type": "code",
   "execution_count": null,
   "metadata": {},
   "outputs": [],
   "source": [
    "xgb = GeoLifeXGB(SEED)\n",
    "count_model = xgb.generate_count_model()"
   ]
  },
  {
   "cell_type": "code",
   "execution_count": null,
   "metadata": {},
   "outputs": [],
   "source": [
    "pk.dump(xgb.predict_test_counts(), open(f\"counts_seed_{SEED}.pkl\", \"wb\"))"
   ]
  },
  {
   "cell_type": "code",
   "execution_count": null,
   "metadata": {},
   "outputs": [],
   "source": [
    "_ = xgb.generate_main_model()"
   ]
  },
  {
   "cell_type": "code",
   "execution_count": null,
   "metadata": {},
   "outputs": [],
   "source": [
    "xgbout = xgb.predict_test_scores()\n",
    "pk.dump(xgbout, open(f\"xgbout_seed_{SEED}.pkl\", \"wb\"))"
   ]
  },
  {
   "cell_type": "code",
   "execution_count": null,
   "metadata": {},
   "outputs": [],
   "source": [
    "xgbout = pk.load(open(f\"xgbout_seed_{SEED}.pkl\", \"rb\"))\n",
    "xgbout = pd.DataFrame(xgbout, columns=xgb.yy_cols, index=xgb.test.index)\n",
    "\n",
    "postproc = GeoLifePostprocessor([xgbout,], [1,], pk.load(open(f\"counts_seed_{SEED}.pkl\", \"rb\")))\n",
    "postproc.save(f\"xgboost_seed_{SEED}_\")"
   ]
  }
 ],
 "metadata": {
  "kernelspec": {
   "display_name": ".venv",
   "language": "python",
   "name": "python3"
  },
  "language_info": {
   "codemirror_mode": {
    "name": "ipython",
    "version": 3
   },
   "file_extension": ".py",
   "mimetype": "text/x-python",
   "name": "python",
   "nbconvert_exporter": "python",
   "pygments_lexer": "ipython3",
   "version": "3.12.3"
  }
 },
 "nbformat": 4,
 "nbformat_minor": 2
}
