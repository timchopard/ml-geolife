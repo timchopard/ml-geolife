{
 "cells": [
  {
   "cell_type": "markdown",
   "metadata": {},
   "source": [
    "# XGBoost Count and Liklihood Models\n",
    "\n",
    "- The count model is used accross all three approaches (XGBoost, ViT and ResNet) in order to select an optimal number of likely species.\n",
    "\n",
    "- The liklihood model trains and runs quicker than the other two approaches and scores __0.32217__ on the private test data\n",
    "\n",
    "This model uses preprocessed Presence Absence Metadata, Bioclimatic Rasters and Time Series Landsat data to make its predictions.\n",
    "\n",
    "To preprocess the data (if not already done) uncomment the second cell."
   ]
  },
  {
   "cell_type": "markdown",
   "metadata": {},
   "source": [
    "Imports"
   ]
  },
  {
   "cell_type": "code",
   "execution_count": 1,
   "metadata": {},
   "outputs": [],
   "source": [
    "import pandas as pd\n",
    "import pickle as pk\n",
    "from pipeline import GeoLifeXGB\n",
    "from pipeline import GeoLifePostprocessor"
   ]
  },
  {
   "cell_type": "markdown",
   "metadata": {},
   "source": [
    "Uncomment to preprocess data if the script has not already been run."
   ]
  },
  {
   "cell_type": "code",
   "execution_count": 2,
   "metadata": {},
   "outputs": [],
   "source": [
    "# ! python preprocess_data.py"
   ]
  },
  {
   "cell_type": "markdown",
   "metadata": {},
   "source": [
    "Set a training seed"
   ]
  },
  {
   "cell_type": "code",
   "execution_count": null,
   "metadata": {},
   "outputs": [],
   "source": []
  },
  {
   "cell_type": "code",
   "execution_count": 3,
   "metadata": {},
   "outputs": [],
   "source": [
    "SEED = 3"
   ]
  },
  {
   "cell_type": "markdown",
   "metadata": {},
   "source": [
    "Initialise the XGBoost trainer class and train the count prediction model"
   ]
  },
  {
   "cell_type": "code",
   "execution_count": 4,
   "metadata": {},
   "outputs": [],
   "source": [
    "xgb = GeoLifeXGB(SEED)\n",
    "count_model = xgb.generate_count_model()"
   ]
  },
  {
   "cell_type": "markdown",
   "metadata": {},
   "source": [
    "Save the count predictions for the test dataset"
   ]
  },
  {
   "cell_type": "code",
   "execution_count": 5,
   "metadata": {},
   "outputs": [
    {
     "name": "stderr",
     "output_type": "stream",
     "text": [
      "/home/tim/Documents/Projects/MachineLearning/ml-geolife/.venv/lib/python3.12/site-packages/xgboost/core.py:160: UserWarning: [22:17:06] WARNING: /workspace/src/common/error_msg.cc:58: Falling back to prediction using DMatrix due to mismatched devices. This might lead to higher memory usage and slower performance. XGBoost is running on: cuda:0, while the input data is on: cpu.\n",
      "Potential solutions:\n",
      "- Use a data structure that matches the device ordinal in the booster.\n",
      "- Set the device for booster before call to inplace_predict.\n",
      "\n",
      "This warning will only be shown once.\n",
      "\n",
      "  warnings.warn(smsg, UserWarning)\n"
     ]
    }
   ],
   "source": [
    "for idx in [0, 2, 2.5, 3, 3.5, 4, 4.5, 5]:\n",
    "    pk.dump(xgb.predict_test_counts(idx), open(f\"counts_plus_{idx}_.pkl\", \"wb\"))"
   ]
  },
  {
   "cell_type": "markdown",
   "metadata": {},
   "source": [
    "Generate the main XGBoost species occurrence liklihood model"
   ]
  },
  {
   "cell_type": "code",
   "execution_count": 6,
   "metadata": {},
   "outputs": [],
   "source": [
    "_ = xgb.generate_main_model()"
   ]
  },
  {
   "cell_type": "markdown",
   "metadata": {},
   "source": [
    "Generate occurrence predictions from the test data and save the raw output for use in Ensemble predictions"
   ]
  },
  {
   "cell_type": "code",
   "execution_count": 7,
   "metadata": {},
   "outputs": [],
   "source": [
    "xgbout = xgb.predict_test_scores()\n",
    "pk.dump(xgbout, open(f\"xgbout_seed_{SEED}.pkl\", \"wb\"))"
   ]
  },
  {
   "cell_type": "markdown",
   "metadata": {},
   "source": [
    "Generate the final prediction file based on this model and save it as a .csv"
   ]
  },
  {
   "cell_type": "code",
   "execution_count": 8,
   "metadata": {},
   "outputs": [
    {
     "name": "stdout",
     "output_type": "stream",
     "text": [
      "Saved to: submissions/xgboost_seed_3_2024-06-22_22-36.csv\n"
     ]
    }
   ],
   "source": [
    "xgbout = pk.load(open(f\"xgbout_seed_{SEED}.pkl\", \"rb\"))\n",
    "xgbout = pd.DataFrame(xgbout, columns=xgb.yy_cols, index=xgb.test.index)\n",
    "\n",
    "postproc = GeoLifePostprocessor([xgbout,], [1,], pk.load(open(f\"counts_seed_{SEED}.pkl\", \"rb\")))\n",
    "postproc.save(f\"xgboost_seed_{SEED}_\")"
   ]
  }
 ],
 "metadata": {
  "kernelspec": {
   "display_name": ".venv",
   "language": "python",
   "name": "python3"
  },
  "language_info": {
   "codemirror_mode": {
    "name": "ipython",
    "version": 3
   },
   "file_extension": ".py",
   "mimetype": "text/x-python",
   "name": "python",
   "nbconvert_exporter": "python",
   "pygments_lexer": "ipython3",
   "version": "3.12.3"
  }
 },
 "nbformat": 4,
 "nbformat_minor": 2
}
