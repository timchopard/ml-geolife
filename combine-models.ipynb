{
 "cells": [
  {
   "cell_type": "code",
   "execution_count": 11,
   "metadata": {},
   "outputs": [],
   "source": [
    "from helper import get_top_n\n",
    "import pickle as pk\n",
    "from pipeline.postprocessing import Postprocessor\n",
    "import pandas as pd"
   ]
  },
  {
   "cell_type": "code",
   "execution_count": 12,
   "metadata": {},
   "outputs": [],
   "source": [
    "xgb_counts = pk.load(open(\"temp-counts.pkl\", \"rb\"))\n",
    "xgb_predictions = pk.load(open(\"temp-preds.pkl\", \"rb\"))\n",
    "label_cols = pk.load(open(\"temp_label_cols.pkl\", \"rb\"))\n",
    "indices = pk.load(open(\"temp_indices.pkl\", \"rb\"))\n",
    "pred_df_1 = pd.read_pickle(\"our-vit.pkl\")\n",
    "pred_df_2 = pd.read_pickle(\"pred_improved_norm_df.pkl\")"
   ]
  },
  {
   "cell_type": "code",
   "execution_count": 14,
   "metadata": {},
   "outputs": [],
   "source": [
    "pred_df_1 = pred_df_1[label_cols].to_numpy()\n",
    "pred_df_2 = pred_df_2[label_cols].to_numpy()\n",
    "weighting = [1, 2, 1]"
   ]
  },
  {
   "cell_type": "code",
   "execution_count": 15,
   "metadata": {},
   "outputs": [
    {
     "name": "stdout",
     "output_type": "stream",
     "text": [
      ":: [SAVED] uploadable_2024-05-15_14-09.csv\n"
     ]
    },
    {
     "data": {
      "text/plain": [
       "<pipeline.postprocessing.postprocessor.Postprocessor at 0x7fbe8c15bcd0>"
      ]
     },
     "execution_count": 15,
     "metadata": {},
     "output_type": "execute_result"
    }
   ],
   "source": [
    "Postprocessor(\n",
    "    get_top_n(weighting[0]*pred_df_1 + weighting[1]*pred_df_2 + weighting[2]*xgb_predictions, xgb_counts),\n",
    "    pred_indices=indices,\n",
    "    pred_cols=label_cols,\n",
    "    save=True,\n",
    "    uploadable=True\n",
    ")"
   ]
  }
 ],
 "metadata": {
  "kernelspec": {
   "display_name": "tf",
   "language": "python",
   "name": "python3"
  },
  "language_info": {
   "codemirror_mode": {
    "name": "ipython",
    "version": 3
   },
   "file_extension": ".py",
   "mimetype": "text/x-python",
   "name": "python",
   "nbconvert_exporter": "python",
   "pygments_lexer": "ipython3",
   "version": "3.11.9"
  }
 },
 "nbformat": 4,
 "nbformat_minor": 2
}
