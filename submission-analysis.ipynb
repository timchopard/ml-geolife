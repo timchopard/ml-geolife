{
 "cells": [
  {
   "cell_type": "code",
   "execution_count": 2,
   "metadata": {},
   "outputs": [],
   "source": [
    "from collections import Counter\n",
    "import pandas as pd"
   ]
  },
  {
   "cell_type": "code",
   "execution_count": 3,
   "metadata": {},
   "outputs": [],
   "source": [
    "# read in files\n",
    "submission_df = pd.read_csv('output/2024-05-21_1746/submission.csv')\n",
    "# submission_df = pd.read_csv('output/submission-nearest.csv')\n",
    "# submission_df = pd.read_csv('output/2024-05-19_2017/submission.csv')\n",
    "# submission_df = pd.read_csv('output/uploadable_2024-05-13_14-47_imp_nrm.csv')\n",
    "current_best_df = pd.read_csv('output/current-best-0.34329.csv')\n"
   ]
  },
  {
   "cell_type": "code",
   "execution_count": 4,
   "metadata": {},
   "outputs": [],
   "source": [
    "# check correct number of surveyIds and columns\n",
    "assert submission_df.shape == current_best_df.shape"
   ]
  },
  {
   "cell_type": "code",
   "execution_count": 5,
   "metadata": {},
   "outputs": [],
   "source": [
    "# check test surveyIds used\n",
    "assert all(submission_df.surveyId == current_best_df.surveyId)"
   ]
  },
  {
   "cell_type": "code",
   "execution_count": 6,
   "metadata": {},
   "outputs": [],
   "source": [
    "# check column headings\n",
    "assert all(submission_df.columns == current_best_df.columns)"
   ]
  },
  {
   "cell_type": "code",
   "execution_count": 7,
   "metadata": {},
   "outputs": [],
   "source": [
    "# check species is monotonically increasing\n",
    "for surveyId, row in zip(submission_df.surveyId, submission_df.predictions):\n",
    "    species = row.strip().split(' ')\n",
    "    if not all(int(x) < int(y) for x, y in zip(species, species[1:])):\n",
    "        print(f'Error in surveyId {surveyId}, not all species are monotonically increasing')\n",
    "        print(f'Row: {row}')\n"
   ]
  },
  {
   "cell_type": "code",
   "execution_count": 8,
   "metadata": {},
   "outputs": [
    {
     "name": "stdout",
     "output_type": "stream",
     "text": [
      "Number of surveyIds with different species counts: 4716\n"
     ]
    }
   ],
   "source": [
    "# check species counts\n",
    "diff_counts = 0\n",
    "diff_counts_survey_ids = []\n",
    "for surveyId, row_pred, row_best in zip(submission_df.surveyId, submission_df.predictions, current_best_df.predictions):\n",
    "    pred_species = row_pred.split(' ')\n",
    "    best_species = row_best.split(' ')\n",
    "    if len(best_species) != len(pred_species):\n",
    "        diff_counts += 1\n",
    "        diff_counts_survey_ids.append(surveyId)\n",
    "print(f'Number of surveyIds with different species counts: {diff_counts}')"
   ]
  },
  {
   "cell_type": "code",
   "execution_count": 9,
   "metadata": {},
   "outputs": [
    {
     "name": "stdout",
     "output_type": "stream",
     "text": [
      "Average similarity to current best: 13.63%\n"
     ]
    }
   ],
   "source": [
    "# check for similarity to current best\n",
    "row_similarity = []\n",
    "for row_pred, row_best in zip(submission_df.predictions, current_best_df.predictions):\n",
    "    pred = row_pred.split(' ')\n",
    "    best = row_best.split(' ')\n",
    "    row_similarity.append(len(set(pred) & set(best))/len(best))\n",
    "print(f\"Average similarity to current best: {sum(row_similarity)/len(row_similarity):.2%}\")"
   ]
  }
 ],
 "metadata": {
  "kernelspec": {
   "display_name": "pt",
   "language": "python",
   "name": "python3"
  },
  "language_info": {
   "codemirror_mode": {
    "name": "ipython",
    "version": 3
   },
   "file_extension": ".py",
   "mimetype": "text/x-python",
   "name": "python",
   "nbconvert_exporter": "python",
   "pygments_lexer": "ipython3",
   "version": "3.11.8"
  }
 },
 "nbformat": 4,
 "nbformat_minor": 2
}
