{
 "cells": [
  {
   "cell_type": "markdown",
   "metadata": {},
   "source": [
    "# Process the data to create an internal test list"
   ]
  },
  {
   "cell_type": "code",
   "execution_count": 1,
   "metadata": {},
   "outputs": [],
   "source": [
    "import pandas as pd\n",
    "import numpy as np\n",
    "import os\n",
    "from shutil import copy"
   ]
  },
  {
   "cell_type": "code",
   "execution_count": 2,
   "metadata": {},
   "outputs": [],
   "source": [
    "metadata_file_path = {\n",
    "    \"old\": \"data/GLC24_PA_metadata_train.csv\",\n",
    "    \"new\": \"metadata.csv\"}\n",
    "satellite_rgb_file_path = {\n",
    "    \"old\": \"data/PA_Train_SatellitePatches_RGB/pa_train_patches_rgb\",\n",
    "    \"new\": \"satellite_rgb\"}\n",
    "satellite_nir_file_path = {\n",
    "    \"old\": \"data/PA_Train_SatellitePatches_NIR/pa_train_patches_nir\",\n",
    "    \"new\": \"satellite_nir\"}\n",
    "landsat = {\n",
    "    \"old\": \"data/PA-train-landsat_time_series\",\n",
    "    \"new\": \"landsat\"}\n",
    "rasters_climate_average = {\n",
    "    \"old\": \"data/EnvironmentalRasters/EnvironmentalRasters/Climate/Average 1981-2010/GLC24-PA-train-bioclimatic.csv\",\n",
    "    \"new\": \"rasters-climate_average.csv\"}\n",
    "rasters_climate_monthly = {\n",
    "    \"old\": \"data/EnvironmentalRasters/EnvironmentalRasters/Climate/Monthly/GLC24-PA-train-bioclimatic_monthly.csv\",\n",
    "    \"new\": \"rasters-climate_monthly.csv\"}\n",
    "rasters_elevation = {\n",
    "    \"old\": \"data/EnvironmentalRasters/EnvironmentalRasters/Elevation/GLC24-PA-train-elevation.csv\",\n",
    "    \"new\": \"rasters-climate_elevation.csv\"}\n",
    "rasters_human_footprint = {\n",
    "    \"old\": \"data/EnvironmentalRasters/EnvironmentalRasters/Human Footprint/GLC24-PA-train-human_footprint.csv\",\n",
    "    \"new\": \"rasters-human_footprint.csv\"}\n",
    "rasters_landcover = {\n",
    "    \"old\": \"data/EnvironmentalRasters/EnvironmentalRasters/LandCover/GLC24-PA-train-landcover.csv\",\n",
    "    \"new\": \"rasters-landcover.csv\"}\n",
    "rasters_soilgrids = {\n",
    "    \"old\": \"data/EnvironmentalRasters/EnvironmentalRasters/SoilGrids/GLC24-PA-train-soilgrids.csv\",\n",
    "    \"new\": \"rasters-soilgrids.csv\"}\n",
    "# cubes_landsat = {\n",
    "#     \"old\": \"data/TimeSeries-Cubes/GLC24-PA-train-landsat_time_series\",\n",
    "#     \"new\": \"cubes_landsat\"}\n",
    "dir_paths= [satellite_rgb_file_path, satellite_nir_file_path]"
   ]
  },
  {
   "cell_type": "code",
   "execution_count": 3,
   "metadata": {},
   "outputs": [],
   "source": [
    "for type in [\"train\", \"test\"]:\n",
    "    for path in dir_paths:\n",
    "        new_path = os.path.join(\"processed_data/internal_split\", type, path[\"new\"])\n",
    "        if not os.path.exists(new_path):\n",
    "            os.makedirs(new_path)"
   ]
  },
  {
   "cell_type": "code",
   "execution_count": 4,
   "metadata": {},
   "outputs": [],
   "source": [
    "metadata_df = pd.read_csv(metadata_file_path[\"old\"])"
   ]
  },
  {
   "cell_type": "code",
   "execution_count": 5,
   "metadata": {},
   "outputs": [],
   "source": [
    "metadata_df.surveyId=metadata_df.surveyId.astype(str)\n",
    "metadata_df.speciesId=metadata_df.speciesId.astype(int)\n",
    "metadata_df.speciesId=metadata_df.speciesId.astype(str)"
   ]
  },
  {
   "cell_type": "code",
   "execution_count": 6,
   "metadata": {},
   "outputs": [],
   "source": [
    "train_metadata_surveyIds = np.loadtxt(\"train_metadata_surveyIds.csv\", delimiter=\",\", dtype=str)\n",
    "test_metadata_surveyIds = np.loadtxt(\"test_metadata_surveyIds.csv\", delimiter=\",\", dtype=str)"
   ]
  },
  {
   "cell_type": "code",
   "execution_count": 7,
   "metadata": {},
   "outputs": [],
   "source": [
    "train_df = metadata_df.query(\"surveyId in @train_metadata_surveyIds\")"
   ]
  },
  {
   "cell_type": "code",
   "execution_count": 8,
   "metadata": {},
   "outputs": [
    {
     "name": "stderr",
     "output_type": "stream",
     "text": [
      "/tmp/ipykernel_8211/402714953.py:1: SettingWithCopyWarning: \n",
      "A value is trying to be set on a copy of a slice from a DataFrame.\n",
      "Try using .loc[row_indexer,col_indexer] = value instead\n",
      "\n",
      "See the caveats in the documentation: https://pandas.pydata.org/pandas-docs/stable/user_guide/indexing.html#returning-a-view-versus-a-copy\n",
      "  train_df['speciesId_count'] = train_df.groupby('surveyId')['surveyId'].transform('count')\n"
     ]
    }
   ],
   "source": [
    "train_df['speciesId_count'] = train_df.groupby('surveyId')['surveyId'].transform('count')"
   ]
  },
  {
   "cell_type": "markdown",
   "metadata": {},
   "source": [
    "## Test Data"
   ]
  },
  {
   "cell_type": "code",
   "execution_count": 9,
   "metadata": {},
   "outputs": [],
   "source": [
    "test_df = metadata_df.query(\"surveyId in @test_metadata_surveyIds\")"
   ]
  },
  {
   "cell_type": "markdown",
   "metadata": {},
   "source": [
    "### Create a _perfect_ submission file to test against"
   ]
  },
  {
   "cell_type": "code",
   "execution_count": 10,
   "metadata": {},
   "outputs": [
    {
     "name": "stderr",
     "output_type": "stream",
     "text": [
      "/tmp/ipykernel_8211/2938353354.py:1: DeprecationWarning: DataFrameGroupBy.apply operated on the grouping columns. This behavior is deprecated, and in a future version of pandas the grouping columns will be excluded from the operation. Either pass `include_groups=False` to exclude the groupings or explicitly select the grouping columns after groupby to silence this warning.\n",
      "  submission_actual = test_df.groupby('surveyId').apply(lambda x : pd.Series(x['speciesId'].str.cat(sep=' '), index=['predictions']))\n"
     ]
    }
   ],
   "source": [
    "submission_actual = test_df.groupby('surveyId').apply(lambda x : pd.Series(x['speciesId'].str.cat(sep=' '), index=['predictions']))"
   ]
  },
  {
   "cell_type": "code",
   "execution_count": 11,
   "metadata": {},
   "outputs": [],
   "source": [
    "submission_actual.to_csv(\"submission_actual.csv\")"
   ]
  },
  {
   "cell_type": "markdown",
   "metadata": {},
   "source": [
    "### Test dataset"
   ]
  },
  {
   "cell_type": "code",
   "execution_count": 12,
   "metadata": {},
   "outputs": [],
   "source": [
    "test_df = test_df.drop(columns=['speciesId']).groupby('surveyId').first().reset_index()"
   ]
  },
  {
   "cell_type": "code",
   "execution_count": 13,
   "metadata": {},
   "outputs": [],
   "source": [
    "test_df.to_csv(os.path.join(\"processed_data/internal_split/test\", metadata_file_path[\"new\"]), index=False)"
   ]
  },
  {
   "cell_type": "markdown",
   "metadata": {},
   "source": [
    "## Satellite Images"
   ]
  },
  {
   "cell_type": "code",
   "execution_count": 14,
   "metadata": {},
   "outputs": [],
   "source": [
    "for file_path in [satellite_rgb_file_path, satellite_nir_file_path]:\n",
    "    for cd_folder in os.listdir(file_path[\"old\"]):\n",
    "        for ad_folder in os.listdir(os.path.join(file_path[\"old\"], cd_folder)):\n",
    "            for file in os.listdir(os.path.join(file_path[\"old\"], cd_folder, ad_folder)):\n",
    "                if file[:-5] in test_metadata_surveyIds:\n",
    "                    copy(os.path.join(file_path[\"old\"], cd_folder, ad_folder, file), os.path.join(\"processed_data/internal_split/test\", file_path[\"new\"]))\n",
    "                else:\n",
    "                    copy(os.path.join(file_path[\"old\"], cd_folder, ad_folder, file), os.path.join(\"processed_data/internal_split/train\", file_path[\"new\"]))\n"
   ]
  },
  {
   "cell_type": "markdown",
   "metadata": {},
   "source": [
    "## Landsat Time Series"
   ]
  },
  {
   "cell_type": "code",
   "execution_count": 15,
   "metadata": {},
   "outputs": [],
   "source": [
    "landsat_blue_df = pd.read_csv(os.path.join(landsat[\"old\"], \"GLC24-PA-train-landsat_time_series-blue.csv\"))\n",
    "landsat_green_df = pd.read_csv(os.path.join(landsat[\"old\"], \"GLC24-PA-train-landsat_time_series-green.csv\"))\n",
    "landsat_red_df = pd.read_csv(os.path.join(landsat[\"old\"], \"GLC24-PA-train-landsat_time_series-red.csv\"))\n",
    "landsat_nir_df = pd.read_csv(os.path.join(landsat[\"old\"], \"GLC24-PA-train-landsat_time_series-nir.csv\"))\n",
    "landsat_swir1_df = pd.read_csv(os.path.join(landsat[\"old\"], \"GLC24-PA-train-landsat_time_series-swir1.csv\"))\n",
    "landsat_swir2_df = pd.read_csv(os.path.join(landsat[\"old\"], \"GLC24-PA-train-landsat_time_series-swir2.csv\"))"
   ]
  },
  {
   "cell_type": "code",
   "execution_count": 16,
   "metadata": {},
   "outputs": [],
   "source": [
    "landsat_blue_df.surveyId=landsat_blue_df.surveyId.astype(str)\n",
    "landsat_green_df.surveyId=landsat_green_df.surveyId.astype(str)\n",
    "landsat_red_df.surveyId=landsat_red_df.surveyId.astype(str)\n",
    "landsat_nir_df.surveyId=landsat_nir_df.surveyId.astype(str)\n",
    "landsat_swir1_df.surveyId=landsat_swir1_df.surveyId.astype(str)\n",
    "landsat_swir2_df.surveyId=landsat_swir2_df.surveyId.astype(str)"
   ]
  },
  {
   "cell_type": "code",
   "execution_count": 17,
   "metadata": {},
   "outputs": [],
   "source": [
    "landsat_blue_train_df = landsat_blue_df.query(\"surveyId in @train_metadata_surveyIds\")\n",
    "landsat_green_train_df = landsat_green_df.query(\"surveyId in @train_metadata_surveyIds\")\n",
    "landsat_red_train_df = landsat_red_df.query(\"surveyId in @train_metadata_surveyIds\")\n",
    "landsat_nir_train_df = landsat_nir_df.query(\"surveyId in @train_metadata_surveyIds\")\n",
    "landsat_swir1_train_df = landsat_swir1_df.query(\"surveyId in @train_metadata_surveyIds\")\n",
    "landsat_swir2_train_df = landsat_swir2_df.query(\"surveyId in @train_metadata_surveyIds\")"
   ]
  },
  {
   "cell_type": "code",
   "execution_count": 18,
   "metadata": {},
   "outputs": [],
   "source": [
    "landsat_blue_test_df = landsat_blue_df.query(\"surveyId in @test_metadata_surveyIds\")\n",
    "landsat_green_test_df = landsat_green_df.query(\"surveyId in @test_metadata_surveyIds\")\n",
    "landsat_red_test_df = landsat_red_df.query(\"surveyId in @test_metadata_surveyIds\")\n",
    "landsat_nir_test_df = landsat_nir_df.query(\"surveyId in @test_metadata_surveyIds\")\n",
    "landsat_swir1_test_df = landsat_swir1_df.query(\"surveyId in @test_metadata_surveyIds\")\n",
    "landsat_swir2_test_df = landsat_swir2_df.query(\"surveyId in @test_metadata_surveyIds\")"
   ]
  },
  {
   "cell_type": "code",
   "execution_count": 19,
   "metadata": {},
   "outputs": [],
   "source": [
    "landsat_blue_train_df.to_csv(os.path.join(\"processed_data/internal_split/train\", \"landsat-blue.csv\"), index=False)\n",
    "landsat_green_train_df.to_csv(os.path.join(\"processed_data/internal_split/train\", \"landsat-green.csv\"), index=False)\n",
    "landsat_red_train_df.to_csv(os.path.join(\"processed_data/internal_split/train\", \"landsat-red.csv\"), index=False)\n",
    "landsat_nir_train_df.to_csv(os.path.join(\"processed_data/internal_split/train\", \"landsat-nir.csv\"), index=False)\n",
    "landsat_swir1_train_df.to_csv(os.path.join(\"processed_data/internal_split/train\", \"landsat-swir1.csv\"), index=False)\n",
    "landsat_swir2_train_df.to_csv(os.path.join(\"processed_data/internal_split/train\", \"landsat-swir2.csv\"), index=False)"
   ]
  },
  {
   "cell_type": "code",
   "execution_count": 20,
   "metadata": {},
   "outputs": [],
   "source": [
    "landsat_blue_test_df.to_csv(os.path.join(\"processed_data/internal_split/test\", \"landsat-blue.csv\"), index=False)\n",
    "landsat_green_test_df.to_csv(os.path.join(\"processed_data/internal_split/test\", \"landsat-green.csv\"), index=False)\n",
    "landsat_red_test_df.to_csv(os.path.join(\"processed_data/internal_split/test\", \"landsat-red.csv\"), index=False)\n",
    "landsat_nir_test_df.to_csv(os.path.join(\"processed_data/internal_split/test\", \"landsat-nir.csv\"), index=False)\n",
    "landsat_swir1_test_df.to_csv(os.path.join(\"processed_data/internal_split/test\", \"landsat-swir1.csv\"), index=False)\n",
    "landsat_swir2_test_df.to_csv(os.path.join(\"processed_data/internal_split/test\", \"landsat-swir2.csv\"), index=False)"
   ]
  },
  {
   "cell_type": "markdown",
   "metadata": {},
   "source": [
    "## Environmental Rasters"
   ]
  },
  {
   "cell_type": "code",
   "execution_count": 21,
   "metadata": {},
   "outputs": [],
   "source": [
    "to_process = [rasters_climate_average, rasters_climate_monthly, rasters_elevation, rasters_human_footprint, rasters_landcover, rasters_soilgrids]\n",
    "\n",
    "for file_path in to_process:\n",
    "    df = pd.read_csv(file_path[\"old\"])\n",
    "    df.surveyId=df.surveyId.astype(str)\n",
    "    train_df = df.query(\"surveyId in @train_metadata_surveyIds\")\n",
    "    test_df = df.query(\"surveyId in @test_metadata_surveyIds\")\n",
    "    train_df.to_csv(os.path.join(\"processed_data/internal_split/train\", file_path[\"new\"]), index=False)\n",
    "    test_df.to_csv(os.path.join(\"processed_data/internal_split/test\", file_path[\"new\"]), index=False)"
   ]
  }
 ],
 "metadata": {
  "kernelspec": {
   "display_name": "tf",
   "language": "python",
   "name": "python3"
  },
  "language_info": {
   "codemirror_mode": {
    "name": "ipython",
    "version": 3
   },
   "file_extension": ".py",
   "mimetype": "text/x-python",
   "name": "python",
   "nbconvert_exporter": "python",
   "pygments_lexer": "ipython3",
   "version": "3.11.8"
  }
 },
 "nbformat": 4,
 "nbformat_minor": 2
}
