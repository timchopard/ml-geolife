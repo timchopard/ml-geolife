{
 "cells": [
  {
   "cell_type": "markdown",
   "metadata": {},
   "source": [
    "# Process the Observations data"
   ]
  },
  {
   "cell_type": "markdown",
   "metadata": {},
   "source": [
    "## Imports"
   ]
  },
  {
   "cell_type": "code",
   "execution_count": 1,
   "metadata": {},
   "outputs": [],
   "source": [
    "import pandas as pd\n",
    "import numpy as np\n",
    "import matplotlib.pyplot as plt\n",
    "import seaborn as sns\n",
    "import sklearn as sk\n",
    "\n",
    "from sklearn.preprocessing import OneHotEncoder, OrdinalEncoder, StandardScaler\n",
    "from sklearn.pipeline import Pipeline, make_pipeline\n",
    "from sklearn.compose import ColumnTransformer, make_column_transformer\n",
    "from sklearn.model_selection import train_test_split"
   ]
  },
  {
   "cell_type": "code",
   "execution_count": 2,
   "metadata": {},
   "outputs": [],
   "source": [
    "pd.options.display.float_format = '{:10,.3f}'.format"
   ]
  },
  {
   "cell_type": "markdown",
   "metadata": {},
   "source": [
    "### Presence-Absence (PA) surveys\n",
    "\n",
    "Including around 90 thousand surveys with roughly 10,000 species of the European flora. The presence-absence data (PA) is provided to compensate for the problem of false-absences of PO data and calibrate models to avoid associated biases.\n",
    "\n",
    "- numerical: 'lon', 'lat', 'geoUncertaintyInM', 'areaInM2', \n",
    "- ordinal: 'year'\n",
    "- categorical: 'region', 'country', 'speciesId', 'surveyId'"
   ]
  },
  {
   "cell_type": "code",
   "execution_count": 3,
   "metadata": {},
   "outputs": [],
   "source": [
    "pa_train = pd.read_csv('data/GLC24_PA_metadata_train.csv')\n",
    "pa_test = pd.read_csv('data/GLC24_PA_metadata_test.csv')"
   ]
  },
  {
   "cell_type": "code",
   "execution_count": 4,
   "metadata": {},
   "outputs": [
    {
     "name": "stdout",
     "output_type": "stream",
     "text": [
      "<class 'pandas.core.frame.DataFrame'>\n",
      "RangeIndex: 1483637 entries, 0 to 1483636\n",
      "Data columns (total 9 columns):\n",
      " #   Column             Non-Null Count    Dtype  \n",
      "---  ------             --------------    -----  \n",
      " 0   lon                1483637 non-null  float64\n",
      " 1   lat                1483637 non-null  float64\n",
      " 2   year               1483637 non-null  int64  \n",
      " 3   geoUncertaintyInM  1471141 non-null  float64\n",
      " 4   areaInM2           1300365 non-null  float64\n",
      " 5   region             1483637 non-null  object \n",
      " 6   country            1483637 non-null  object \n",
      " 7   speciesId          1483637 non-null  float64\n",
      " 8   surveyId           1483637 non-null  int64  \n",
      "dtypes: float64(5), int64(2), object(2)\n",
      "memory usage: 101.9+ MB\n"
     ]
    }
   ],
   "source": [
    "pa_train.info()"
   ]
  },
  {
   "cell_type": "markdown",
   "metadata": {},
   "source": [
    "#### lon\n",
    "\n",
    "- Longtitude of area surveyed\n",
    "- Data appears complete"
   ]
  },
  {
   "cell_type": "code",
   "execution_count": 6,
   "metadata": {},
   "outputs": [
    {
     "data": {
      "text/plain": [
       "count   1,483,637.000\n",
       "mean            9.025\n",
       "std             4.437\n",
       "min            -9.018\n",
       "25%             6.053\n",
       "50%             9.381\n",
       "75%            10.419\n",
       "max            29.154\n",
       "Name: lon, dtype: float64"
      ]
     },
     "execution_count": 6,
     "metadata": {},
     "output_type": "execute_result"
    }
   ],
   "source": [
    "pa_train.lon.describe()"
   ]
  },
  {
   "cell_type": "code",
   "execution_count": 7,
   "metadata": {},
   "outputs": [
    {
     "data": {
      "text/html": [
       "<div>\n",
       "<style scoped>\n",
       "    .dataframe tbody tr th:only-of-type {\n",
       "        vertical-align: middle;\n",
       "    }\n",
       "\n",
       "    .dataframe tbody tr th {\n",
       "        vertical-align: top;\n",
       "    }\n",
       "\n",
       "    .dataframe thead th {\n",
       "        text-align: right;\n",
       "    }\n",
       "</style>\n",
       "<table border=\"1\" class=\"dataframe\">\n",
       "  <thead>\n",
       "    <tr style=\"text-align: right;\">\n",
       "      <th></th>\n",
       "      <th>lon</th>\n",
       "      <th>lat</th>\n",
       "      <th>year</th>\n",
       "      <th>geoUncertaintyInM</th>\n",
       "      <th>areaInM2</th>\n",
       "      <th>region</th>\n",
       "      <th>country</th>\n",
       "      <th>speciesId</th>\n",
       "      <th>surveyId</th>\n",
       "    </tr>\n",
       "  </thead>\n",
       "  <tbody>\n",
       "  </tbody>\n",
       "</table>\n",
       "</div>"
      ],
      "text/plain": [
       "Empty DataFrame\n",
       "Columns: [lon, lat, year, geoUncertaintyInM, areaInM2, region, country, speciesId, surveyId]\n",
       "Index: []"
      ]
     },
     "execution_count": 7,
     "metadata": {},
     "output_type": "execute_result"
    }
   ],
   "source": [
    "pa_train.query('lon == 0') # incase we have nulls entered as 0"
   ]
  },
  {
   "cell_type": "markdown",
   "metadata": {},
   "source": [
    "#### lat\n",
    "- Latitude of area surveyed\n",
    "- Data appears complete"
   ]
  },
  {
   "cell_type": "code",
   "execution_count": 8,
   "metadata": {},
   "outputs": [
    {
     "data": {
      "text/plain": [
       "count   1,483,637.000\n",
       "mean           52.426\n",
       "std             4.853\n",
       "min            35.117\n",
       "25%            48.568\n",
       "50%            55.153\n",
       "75%            56.260\n",
       "max            59.893\n",
       "Name: lat, dtype: float64"
      ]
     },
     "execution_count": 8,
     "metadata": {},
     "output_type": "execute_result"
    }
   ],
   "source": [
    "pa_train.lat.describe()"
   ]
  },
  {
   "cell_type": "code",
   "execution_count": 9,
   "metadata": {},
   "outputs": [
    {
     "data": {
      "text/html": [
       "<div>\n",
       "<style scoped>\n",
       "    .dataframe tbody tr th:only-of-type {\n",
       "        vertical-align: middle;\n",
       "    }\n",
       "\n",
       "    .dataframe tbody tr th {\n",
       "        vertical-align: top;\n",
       "    }\n",
       "\n",
       "    .dataframe thead th {\n",
       "        text-align: right;\n",
       "    }\n",
       "</style>\n",
       "<table border=\"1\" class=\"dataframe\">\n",
       "  <thead>\n",
       "    <tr style=\"text-align: right;\">\n",
       "      <th></th>\n",
       "      <th>lon</th>\n",
       "      <th>lat</th>\n",
       "      <th>year</th>\n",
       "      <th>geoUncertaintyInM</th>\n",
       "      <th>areaInM2</th>\n",
       "      <th>region</th>\n",
       "      <th>country</th>\n",
       "      <th>speciesId</th>\n",
       "      <th>surveyId</th>\n",
       "    </tr>\n",
       "  </thead>\n",
       "  <tbody>\n",
       "  </tbody>\n",
       "</table>\n",
       "</div>"
      ],
      "text/plain": [
       "Empty DataFrame\n",
       "Columns: [lon, lat, year, geoUncertaintyInM, areaInM2, region, country, speciesId, surveyId]\n",
       "Index: []"
      ]
     },
     "execution_count": 9,
     "metadata": {},
     "output_type": "execute_result"
    }
   ],
   "source": [
    "pa_train.query('lat == 0') # incase we have nulls entered as 0"
   ]
  },
  {
   "cell_type": "markdown",
   "metadata": {},
   "source": [
    "### year\n",
    "- complete\n",
    "- possibly change to ordinal"
   ]
  },
  {
   "cell_type": "code",
   "execution_count": 10,
   "metadata": {},
   "outputs": [
    {
     "data": {
      "text/plain": [
       "count   1,483,637.000\n",
       "mean        2,018.179\n",
       "std             1.095\n",
       "min         2,017.000\n",
       "25%         2,017.000\n",
       "50%         2,018.000\n",
       "75%         2,019.000\n",
       "max         2,021.000\n",
       "Name: year, dtype: float64"
      ]
     },
     "execution_count": 10,
     "metadata": {},
     "output_type": "execute_result"
    }
   ],
   "source": [
    "pa_train.year.describe()"
   ]
  },
  {
   "cell_type": "markdown",
   "metadata": {},
   "source": [
    "#### geoUncertaintyInM\n",
    "\n",
    "- Appears to be a measure of positional uncertainty in the meassurement\n",
    "- 12496 entries without a value\n",
    "- possibly just set this to 10 (the most frequent)\n",
    "- not sure how to use this information"
   ]
  },
  {
   "cell_type": "code",
   "execution_count": 11,
   "metadata": {},
   "outputs": [
    {
     "data": {
      "text/plain": [
       "12496"
      ]
     },
     "execution_count": 11,
     "metadata": {},
     "output_type": "execute_result"
    }
   ],
   "source": [
    "pa_train.geoUncertaintyInM.isna().sum()"
   ]
  },
  {
   "cell_type": "code",
   "execution_count": 12,
   "metadata": {},
   "outputs": [
    {
     "data": {
      "text/plain": [
       "count   1,471,141.000\n",
       "mean            7.483\n",
       "std             6.191\n",
       "min             0.000\n",
       "25%             3.000\n",
       "50%            10.000\n",
       "75%            10.000\n",
       "max           100.000\n",
       "Name: geoUncertaintyInM, dtype: float64"
      ]
     },
     "execution_count": 12,
     "metadata": {},
     "output_type": "execute_result"
    }
   ],
   "source": [
    "pa_train.geoUncertaintyInM.describe()"
   ]
  },
  {
   "cell_type": "code",
   "execution_count": 13,
   "metadata": {},
   "outputs": [
    {
     "data": {
      "image/png": "[encoded data removed]",
      "text/plain": [
       "<Figure size 640x480 with 1 Axes>"
      ]
     },
     "metadata": {},
     "output_type": "display_data"
    }
   ],
   "source": [
    "sns.histplot(pa_train.geoUncertaintyInM.fillna(-20), bins=20)\n",
    "plt.show()"
   ]
  },
  {
   "cell_type": "markdown",
   "metadata": {},
   "source": [
    "#### areaInM2\n",
    "\n",
    "- Area of sample or from where sample was taken?\n",
    "- 51592 have a value set to -inf\n",
    "- 183272 have no value set"
   ]
  },
  {
   "cell_type": "code",
   "execution_count": 14,
   "metadata": {},
   "outputs": [
    {
     "data": {
      "text/html": [
       "<div>\n",
       "<style scoped>\n",
       "    .dataframe tbody tr th:only-of-type {\n",
       "        vertical-align: middle;\n",
       "    }\n",
       "\n",
       "    .dataframe tbody tr th {\n",
       "        vertical-align: top;\n",
       "    }\n",
       "\n",
       "    .dataframe thead th {\n",
       "        text-align: right;\n",
       "    }\n",
       "</style>\n",
       "<table border=\"1\" class=\"dataframe\">\n",
       "  <thead>\n",
       "    <tr style=\"text-align: right;\">\n",
       "      <th></th>\n",
       "      <th>lon</th>\n",
       "      <th>lat</th>\n",
       "      <th>year</th>\n",
       "      <th>geoUncertaintyInM</th>\n",
       "      <th>areaInM2</th>\n",
       "      <th>region</th>\n",
       "      <th>country</th>\n",
       "      <th>speciesId</th>\n",
       "      <th>surveyId</th>\n",
       "    </tr>\n",
       "  </thead>\n",
       "  <tbody>\n",
       "    <tr>\n",
       "      <th>98</th>\n",
       "      <td>12.450</td>\n",
       "      <td>47.012</td>\n",
       "      <td>2018</td>\n",
       "      <td>3.000</td>\n",
       "      <td>-inf</td>\n",
       "      <td>ALPINE</td>\n",
       "      <td>Austria</td>\n",
       "      <td>9,024.000</td>\n",
       "      <td>489</td>\n",
       "    </tr>\n",
       "    <tr>\n",
       "      <th>104</th>\n",
       "      <td>12.450</td>\n",
       "      <td>47.012</td>\n",
       "      <td>2018</td>\n",
       "      <td>3.000</td>\n",
       "      <td>-inf</td>\n",
       "      <td>ALPINE</td>\n",
       "      <td>Austria</td>\n",
       "      <td>6,643.000</td>\n",
       "      <td>489</td>\n",
       "    </tr>\n",
       "    <tr>\n",
       "      <th>105</th>\n",
       "      <td>12.450</td>\n",
       "      <td>47.012</td>\n",
       "      <td>2018</td>\n",
       "      <td>3.000</td>\n",
       "      <td>-inf</td>\n",
       "      <td>ALPINE</td>\n",
       "      <td>Austria</td>\n",
       "      <td>9,253.000</td>\n",
       "      <td>489</td>\n",
       "    </tr>\n",
       "    <tr>\n",
       "      <th>114</th>\n",
       "      <td>12.450</td>\n",
       "      <td>47.012</td>\n",
       "      <td>2018</td>\n",
       "      <td>3.000</td>\n",
       "      <td>-inf</td>\n",
       "      <td>ALPINE</td>\n",
       "      <td>Austria</td>\n",
       "      <td>1,818.000</td>\n",
       "      <td>489</td>\n",
       "    </tr>\n",
       "    <tr>\n",
       "      <th>125</th>\n",
       "      <td>12.450</td>\n",
       "      <td>47.012</td>\n",
       "      <td>2018</td>\n",
       "      <td>3.000</td>\n",
       "      <td>-inf</td>\n",
       "      <td>ALPINE</td>\n",
       "      <td>Austria</td>\n",
       "      <td>1,818.000</td>\n",
       "      <td>489</td>\n",
       "    </tr>\n",
       "    <tr>\n",
       "      <th>...</th>\n",
       "      <td>...</td>\n",
       "      <td>...</td>\n",
       "      <td>...</td>\n",
       "      <td>...</td>\n",
       "      <td>...</td>\n",
       "      <td>...</td>\n",
       "      <td>...</td>\n",
       "      <td>...</td>\n",
       "      <td>...</td>\n",
       "    </tr>\n",
       "    <tr>\n",
       "      <th>1482962</th>\n",
       "      <td>4.236</td>\n",
       "      <td>52.074</td>\n",
       "      <td>2017</td>\n",
       "      <td>3.000</td>\n",
       "      <td>-inf</td>\n",
       "      <td>ATLANTIC</td>\n",
       "      <td>Netherlands</td>\n",
       "      <td>7,817.000</td>\n",
       "      <td>3917861</td>\n",
       "    </tr>\n",
       "    <tr>\n",
       "      <th>1482963</th>\n",
       "      <td>4.236</td>\n",
       "      <td>52.074</td>\n",
       "      <td>2017</td>\n",
       "      <td>3.000</td>\n",
       "      <td>-inf</td>\n",
       "      <td>ATLANTIC</td>\n",
       "      <td>Netherlands</td>\n",
       "      <td>5,704.000</td>\n",
       "      <td>3917861</td>\n",
       "    </tr>\n",
       "    <tr>\n",
       "      <th>1482964</th>\n",
       "      <td>4.236</td>\n",
       "      <td>52.074</td>\n",
       "      <td>2017</td>\n",
       "      <td>3.000</td>\n",
       "      <td>-inf</td>\n",
       "      <td>ATLANTIC</td>\n",
       "      <td>Netherlands</td>\n",
       "      <td>10,514.000</td>\n",
       "      <td>3917861</td>\n",
       "    </tr>\n",
       "    <tr>\n",
       "      <th>1482965</th>\n",
       "      <td>4.236</td>\n",
       "      <td>52.074</td>\n",
       "      <td>2017</td>\n",
       "      <td>3.000</td>\n",
       "      <td>-inf</td>\n",
       "      <td>ATLANTIC</td>\n",
       "      <td>Netherlands</td>\n",
       "      <td>4,397.000</td>\n",
       "      <td>3917861</td>\n",
       "    </tr>\n",
       "    <tr>\n",
       "      <th>1482966</th>\n",
       "      <td>4.236</td>\n",
       "      <td>52.074</td>\n",
       "      <td>2017</td>\n",
       "      <td>3.000</td>\n",
       "      <td>-inf</td>\n",
       "      <td>ATLANTIC</td>\n",
       "      <td>Netherlands</td>\n",
       "      <td>3,438.000</td>\n",
       "      <td>3917861</td>\n",
       "    </tr>\n",
       "  </tbody>\n",
       "</table>\n",
       "<p>51592 rows × 9 columns</p>\n",
       "</div>"
      ],
      "text/plain": [
       "               lon        lat  year  geoUncertaintyInM   areaInM2    region  \\\n",
       "98          12.450     47.012  2018              3.000       -inf    ALPINE   \n",
       "104         12.450     47.012  2018              3.000       -inf    ALPINE   \n",
       "105         12.450     47.012  2018              3.000       -inf    ALPINE   \n",
       "114         12.450     47.012  2018              3.000       -inf    ALPINE   \n",
       "125         12.450     47.012  2018              3.000       -inf    ALPINE   \n",
       "...            ...        ...   ...                ...        ...       ...   \n",
       "1482962      4.236     52.074  2017              3.000       -inf  ATLANTIC   \n",
       "1482963      4.236     52.074  2017              3.000       -inf  ATLANTIC   \n",
       "1482964      4.236     52.074  2017              3.000       -inf  ATLANTIC   \n",
       "1482965      4.236     52.074  2017              3.000       -inf  ATLANTIC   \n",
       "1482966      4.236     52.074  2017              3.000       -inf  ATLANTIC   \n",
       "\n",
       "             country  speciesId  surveyId  \n",
       "98           Austria  9,024.000       489  \n",
       "104          Austria  6,643.000       489  \n",
       "105          Austria  9,253.000       489  \n",
       "114          Austria  1,818.000       489  \n",
       "125          Austria  1,818.000       489  \n",
       "...              ...        ...       ...  \n",
       "1482962  Netherlands  7,817.000   3917861  \n",
       "1482963  Netherlands  5,704.000   3917861  \n",
       "1482964  Netherlands 10,514.000   3917861  \n",
       "1482965  Netherlands  4,397.000   3917861  \n",
       "1482966  Netherlands  3,438.000   3917861  \n",
       "\n",
       "[51592 rows x 9 columns]"
      ]
     },
     "execution_count": 14,
     "metadata": {},
     "output_type": "execute_result"
    }
   ],
   "source": [
    "pa_train.query('areaInM2 <= 0')"
   ]
  },
  {
   "cell_type": "code",
   "execution_count": 15,
   "metadata": {},
   "outputs": [
    {
     "data": {
      "text/plain": [
       "183272"
      ]
     },
     "execution_count": 15,
     "metadata": {},
     "output_type": "execute_result"
    }
   ],
   "source": [
    "pa_train.areaInM2.isna().sum()"
   ]
  },
  {
   "cell_type": "code",
   "execution_count": 16,
   "metadata": {},
   "outputs": [
    {
     "data": {
      "text/plain": [
       "count   1,248,773.000\n",
       "mean          122.642\n",
       "std           214.578\n",
       "min             0.010\n",
       "25%            30.000\n",
       "50%            79.000\n",
       "75%            79.000\n",
       "max         8,000.000\n",
       "Name: areaInM2, dtype: float64"
      ]
     },
     "execution_count": 16,
     "metadata": {},
     "output_type": "execute_result"
    }
   ],
   "source": [
    "pa_train.query('areaInM2 > 0').areaInM2.describe()"
   ]
  },
  {
   "cell_type": "code",
   "execution_count": 17,
   "metadata": {},
   "outputs": [
    {
     "data": {
      "text/html": [
       "<div>\n",
       "<style scoped>\n",
       "    .dataframe tbody tr th:only-of-type {\n",
       "        vertical-align: middle;\n",
       "    }\n",
       "\n",
       "    .dataframe tbody tr th {\n",
       "        vertical-align: top;\n",
       "    }\n",
       "\n",
       "    .dataframe thead th {\n",
       "        text-align: right;\n",
       "    }\n",
       "</style>\n",
       "<table border=\"1\" class=\"dataframe\">\n",
       "  <thead>\n",
       "    <tr style=\"text-align: right;\">\n",
       "      <th></th>\n",
       "      <th>lon</th>\n",
       "      <th>lat</th>\n",
       "      <th>year</th>\n",
       "      <th>geoUncertaintyInM</th>\n",
       "      <th>areaInM2</th>\n",
       "      <th>region</th>\n",
       "      <th>country</th>\n",
       "      <th>speciesId</th>\n",
       "      <th>surveyId</th>\n",
       "    </tr>\n",
       "  </thead>\n",
       "  <tbody>\n",
       "    <tr>\n",
       "      <th>23771</th>\n",
       "      <td>5.746</td>\n",
       "      <td>50.961</td>\n",
       "      <td>2018</td>\n",
       "      <td>0.000</td>\n",
       "      <td>4,200.000</td>\n",
       "      <td>ATLANTIC</td>\n",
       "      <td>Netherlands</td>\n",
       "      <td>2,704.000</td>\n",
       "      <td>65729</td>\n",
       "    </tr>\n",
       "    <tr>\n",
       "      <th>23772</th>\n",
       "      <td>5.746</td>\n",
       "      <td>50.961</td>\n",
       "      <td>2018</td>\n",
       "      <td>0.000</td>\n",
       "      <td>4,200.000</td>\n",
       "      <td>ATLANTIC</td>\n",
       "      <td>Netherlands</td>\n",
       "      <td>11,071.000</td>\n",
       "      <td>65729</td>\n",
       "    </tr>\n",
       "    <tr>\n",
       "      <th>23773</th>\n",
       "      <td>5.746</td>\n",
       "      <td>50.961</td>\n",
       "      <td>2018</td>\n",
       "      <td>0.000</td>\n",
       "      <td>4,200.000</td>\n",
       "      <td>ATLANTIC</td>\n",
       "      <td>Netherlands</td>\n",
       "      <td>4,493.000</td>\n",
       "      <td>65729</td>\n",
       "    </tr>\n",
       "    <tr>\n",
       "      <th>23774</th>\n",
       "      <td>5.746</td>\n",
       "      <td>50.961</td>\n",
       "      <td>2018</td>\n",
       "      <td>0.000</td>\n",
       "      <td>4,200.000</td>\n",
       "      <td>ATLANTIC</td>\n",
       "      <td>Netherlands</td>\n",
       "      <td>2,684.000</td>\n",
       "      <td>65729</td>\n",
       "    </tr>\n",
       "    <tr>\n",
       "      <th>23775</th>\n",
       "      <td>5.746</td>\n",
       "      <td>50.961</td>\n",
       "      <td>2018</td>\n",
       "      <td>0.000</td>\n",
       "      <td>4,200.000</td>\n",
       "      <td>ATLANTIC</td>\n",
       "      <td>Netherlands</td>\n",
       "      <td>3,111.000</td>\n",
       "      <td>65729</td>\n",
       "    </tr>\n",
       "    <tr>\n",
       "      <th>...</th>\n",
       "      <td>...</td>\n",
       "      <td>...</td>\n",
       "      <td>...</td>\n",
       "      <td>...</td>\n",
       "      <td>...</td>\n",
       "      <td>...</td>\n",
       "      <td>...</td>\n",
       "      <td>...</td>\n",
       "      <td>...</td>\n",
       "    </tr>\n",
       "    <tr>\n",
       "      <th>1402467</th>\n",
       "      <td>4.931</td>\n",
       "      <td>51.207</td>\n",
       "      <td>2020</td>\n",
       "      <td>0.000</td>\n",
       "      <td>1,100.000</td>\n",
       "      <td>ATLANTIC</td>\n",
       "      <td>Belgium</td>\n",
       "      <td>3,738.000</td>\n",
       "      <td>3714019</td>\n",
       "    </tr>\n",
       "    <tr>\n",
       "      <th>1402468</th>\n",
       "      <td>4.931</td>\n",
       "      <td>51.207</td>\n",
       "      <td>2020</td>\n",
       "      <td>0.000</td>\n",
       "      <td>1,100.000</td>\n",
       "      <td>ATLANTIC</td>\n",
       "      <td>Belgium</td>\n",
       "      <td>2,807.000</td>\n",
       "      <td>3714019</td>\n",
       "    </tr>\n",
       "    <tr>\n",
       "      <th>1402469</th>\n",
       "      <td>4.931</td>\n",
       "      <td>51.207</td>\n",
       "      <td>2020</td>\n",
       "      <td>0.000</td>\n",
       "      <td>1,100.000</td>\n",
       "      <td>ATLANTIC</td>\n",
       "      <td>Belgium</td>\n",
       "      <td>4,898.000</td>\n",
       "      <td>3714019</td>\n",
       "    </tr>\n",
       "    <tr>\n",
       "      <th>1402470</th>\n",
       "      <td>4.931</td>\n",
       "      <td>51.207</td>\n",
       "      <td>2020</td>\n",
       "      <td>0.000</td>\n",
       "      <td>1,100.000</td>\n",
       "      <td>ATLANTIC</td>\n",
       "      <td>Belgium</td>\n",
       "      <td>6,900.000</td>\n",
       "      <td>3714019</td>\n",
       "    </tr>\n",
       "    <tr>\n",
       "      <th>1402471</th>\n",
       "      <td>4.931</td>\n",
       "      <td>51.207</td>\n",
       "      <td>2020</td>\n",
       "      <td>0.000</td>\n",
       "      <td>1,100.000</td>\n",
       "      <td>ATLANTIC</td>\n",
       "      <td>Belgium</td>\n",
       "      <td>1,951.000</td>\n",
       "      <td>3714019</td>\n",
       "    </tr>\n",
       "  </tbody>\n",
       "</table>\n",
       "<p>1249 rows × 9 columns</p>\n",
       "</div>"
      ],
      "text/plain": [
       "               lon        lat  year  geoUncertaintyInM   areaInM2    region  \\\n",
       "23771        5.746     50.961  2018              0.000  4,200.000  ATLANTIC   \n",
       "23772        5.746     50.961  2018              0.000  4,200.000  ATLANTIC   \n",
       "23773        5.746     50.961  2018              0.000  4,200.000  ATLANTIC   \n",
       "23774        5.746     50.961  2018              0.000  4,200.000  ATLANTIC   \n",
       "23775        5.746     50.961  2018              0.000  4,200.000  ATLANTIC   \n",
       "...            ...        ...   ...                ...        ...       ...   \n",
       "1402467      4.931     51.207  2020              0.000  1,100.000  ATLANTIC   \n",
       "1402468      4.931     51.207  2020              0.000  1,100.000  ATLANTIC   \n",
       "1402469      4.931     51.207  2020              0.000  1,100.000  ATLANTIC   \n",
       "1402470      4.931     51.207  2020              0.000  1,100.000  ATLANTIC   \n",
       "1402471      4.931     51.207  2020              0.000  1,100.000  ATLANTIC   \n",
       "\n",
       "             country  speciesId  surveyId  \n",
       "23771    Netherlands  2,704.000     65729  \n",
       "23772    Netherlands 11,071.000     65729  \n",
       "23773    Netherlands  4,493.000     65729  \n",
       "23774    Netherlands  2,684.000     65729  \n",
       "23775    Netherlands  3,111.000     65729  \n",
       "...              ...        ...       ...  \n",
       "1402467      Belgium  3,738.000   3714019  \n",
       "1402468      Belgium  2,807.000   3714019  \n",
       "1402469      Belgium  4,898.000   3714019  \n",
       "1402470      Belgium  6,900.000   3714019  \n",
       "1402471      Belgium  1,951.000   3714019  \n",
       "\n",
       "[1249 rows x 9 columns]"
      ]
     },
     "execution_count": 17,
     "metadata": {},
     "output_type": "execute_result"
    }
   ],
   "source": [
    "pa_train.query('areaInM2 > 1000')"
   ]
  },
  {
   "cell_type": "code",
   "execution_count": 18,
   "metadata": {},
   "outputs": [
    {
     "data": {
      "image/png": "[encoded data removed]",
      "text/plain": [
       "<Figure size 640x480 with 1 Axes>"
      ]
     },
     "metadata": {},
     "output_type": "display_data"
    }
   ],
   "source": [
    "sns.histplot(pa_train.query('areaInM2 > 0').areaInM2, bins=20)\n",
    "plt.show()"
   ]
  },
  {
   "cell_type": "markdown",
   "metadata": {},
   "source": [
    "#### region\n",
    "\n",
    "- complete\n",
    "- covers 8 regions\n",
    "- very skewed"
   ]
  },
  {
   "cell_type": "code",
   "execution_count": 19,
   "metadata": {},
   "outputs": [
    {
     "data": {
      "text/plain": [
       "region\n",
       "CONTINENTAL      773578\n",
       "ATLANTIC         506288\n",
       "MEDITERRANEAN    123112\n",
       "ALPINE            62457\n",
       "BOREAL            11723\n",
       "PANNONIAN          5985\n",
       "STEPPIC             460\n",
       "BLACK SEA            34\n",
       "Name: count, dtype: int64"
      ]
     },
     "execution_count": 19,
     "metadata": {},
     "output_type": "execute_result"
    }
   ],
   "source": [
    "pa_train.region.value_counts()"
   ]
  },
  {
   "cell_type": "code",
   "execution_count": 20,
   "metadata": {},
   "outputs": [
    {
     "data": {
      "text/plain": [
       "8"
      ]
     },
     "execution_count": 20,
     "metadata": {},
     "output_type": "execute_result"
    }
   ],
   "source": [
    "pa_train.region.nunique()"
   ]
  },
  {
   "cell_type": "markdown",
   "metadata": {},
   "source": [
    "#### country\n",
    "\n",
    "- complete\n",
    "- covers 29 counntries\n",
    "- coverage is very skewed"
   ]
  },
  {
   "cell_type": "code",
   "execution_count": 21,
   "metadata": {},
   "outputs": [
    {
     "data": {
      "text/plain": [
       "array(['France', 'Denmark', 'Netherlands', 'Austria', 'Germany', 'Spain',\n",
       "       'Poland', 'Belgium', 'Czech Republic', 'Italy', 'Serbia',\n",
       "       'Montenegro', 'Switzerland', 'Slovakia', 'Romania', 'Slovenia',\n",
       "       'Latvia', 'Croatia', 'Hungary', 'Bulgaria', 'Greece', 'Ireland',\n",
       "       'Bosnia and Herzegovina', 'Andorra', 'Monaco',\n",
       "       'The former Yugoslav Republic of Macedonia', 'Portugal', 'Norway',\n",
       "       'Luxembourg'], dtype=object)"
      ]
     },
     "execution_count": 21,
     "metadata": {},
     "output_type": "execute_result"
    }
   ],
   "source": [
    "pa_train.country.unique()"
   ]
  },
  {
   "cell_type": "code",
   "execution_count": 22,
   "metadata": {},
   "outputs": [
    {
     "data": {
      "text/plain": [
       "country\n",
       "Denmark                                      791993\n",
       "France                                       247739\n",
       "Netherlands                                  179457\n",
       "Italy                                         46625\n",
       "Austria                                       43821\n",
       "Belgium                                       31620\n",
       "Germany                                       24701\n",
       "Czech Republic                                24481\n",
       "Montenegro                                    20652\n",
       "Poland                                        13697\n",
       "Latvia                                        11723\n",
       "Spain                                         11574\n",
       "Romania                                        8114\n",
       "Switzerland                                    6466\n",
       "Slovakia                                       4850\n",
       "Croatia                                        4837\n",
       "Bulgaria                                       2738\n",
       "Greece                                         2268\n",
       "Serbia                                         1803\n",
       "Bosnia and Herzegovina                         1428\n",
       "Hungary                                        1355\n",
       "Slovenia                                       1104\n",
       "Monaco                                          150\n",
       "The former Yugoslav Republic of Macedonia       122\n",
       "Ireland                                         107\n",
       "Portugal                                         79\n",
       "Andorra                                          59\n",
       "Luxembourg                                       38\n",
       "Norway                                           36\n",
       "Name: count, dtype: int64"
      ]
     },
     "execution_count": 22,
     "metadata": {},
     "output_type": "execute_result"
    }
   ],
   "source": [
    "pa_train.country.value_counts()"
   ]
  },
  {
   "cell_type": "code",
   "execution_count": 23,
   "metadata": {},
   "outputs": [
    {
     "data": {
      "text/plain": [
       "speciesId\n",
       "5,285.000    3\n",
       "4,397.000    3\n",
       "6,643.000    3\n",
       "  623.000    2\n",
       "6,746.000    2\n",
       "2,949.000    2\n",
       "4,541.000    2\n",
       "9,890.000    1\n",
       "5,901.000    1\n",
       "3,293.000    1\n",
       "8,221.000    1\n",
       "6,208.000    1\n",
       "2,292.000    1\n",
       "4,748.000    1\n",
       "1,162.000    1\n",
       "3,151.000    1\n",
       "  462.000    1\n",
       "6,626.000    1\n",
       "3,352.000    1\n",
       "  171.000    1\n",
       "5,980.000    1\n",
       "5,420.000    1\n",
       "9,376.000    1\n",
       "5,677.000    1\n",
       "3,963.000    1\n",
       "2,248.000    1\n",
       "Name: count, dtype: int64"
      ]
     },
     "execution_count": 23,
     "metadata": {},
     "output_type": "execute_result"
    }
   ],
   "source": [
    "pa_train.query('country == \"Norway\"').speciesId.value_counts()"
   ]
  },
  {
   "cell_type": "code",
   "execution_count": 24,
   "metadata": {},
   "outputs": [
    {
     "data": {
      "text/plain": [
       "speciesId\n",
       "10,239.000    8\n",
       " 2,471.000    4\n",
       "10,142.000    3\n",
       " 6,491.000    3\n",
       "10,731.000    2\n",
       " 9,754.000    2\n",
       " 5,420.000    2\n",
       " 4,027.000    1\n",
       " 2,684.000    1\n",
       "   734.000    1\n",
       " 8,635.000    1\n",
       " 9,940.000    1\n",
       " 8,924.000    1\n",
       "     3.000    1\n",
       " 5,242.000    1\n",
       "10,632.000    1\n",
       " 5,090.000    1\n",
       "Name: count, dtype: int64"
      ]
     },
     "execution_count": 24,
     "metadata": {},
     "output_type": "execute_result"
    }
   ],
   "source": [
    "pa_train.query('region == \"BLACK SEA\"').speciesId.value_counts()"
   ]
  },
  {
   "cell_type": "code",
   "execution_count": 25,
   "metadata": {},
   "outputs": [
    {
     "data": {
      "text/plain": [
       "29"
      ]
     },
     "execution_count": 25,
     "metadata": {},
     "output_type": "execute_result"
    }
   ],
   "source": [
    "pa_train.country.nunique()"
   ]
  },
  {
   "cell_type": "code",
   "execution_count": 26,
   "metadata": {},
   "outputs": [
    {
     "data": {
      "text/plain": [
       "88987"
      ]
     },
     "execution_count": 26,
     "metadata": {},
     "output_type": "execute_result"
    }
   ],
   "source": [
    "pa_train.surveyId.nunique()"
   ]
  },
  {
   "cell_type": "code",
   "execution_count": 27,
   "metadata": {},
   "outputs": [
    {
     "data": {
      "text/plain": [
       "5016"
      ]
     },
     "execution_count": 27,
     "metadata": {},
     "output_type": "execute_result"
    }
   ],
   "source": [
    "pa_train.speciesId.nunique()"
   ]
  },
  {
   "cell_type": "code",
   "execution_count": 28,
   "metadata": {},
   "outputs": [
    {
     "data": {
      "text/plain": [
       "speciesId\n",
       "   540.000    21489\n",
       " 4,397.000    19791\n",
       "   254.000    18117\n",
       " 4,499.000    15270\n",
       "10,317.000    14570\n",
       "              ...  \n",
       " 8,312.000        1\n",
       " 8,381.000        1\n",
       " 7,572.000        1\n",
       " 9,807.000        1\n",
       " 8,119.000        1\n",
       "Name: count, Length: 5016, dtype: int64"
      ]
     },
     "execution_count": 28,
     "metadata": {},
     "output_type": "execute_result"
    }
   ],
   "source": [
    "pa_train.speciesId.value_counts()"
   ]
  },
  {
   "cell_type": "markdown",
   "metadata": {},
   "source": [
    "### Fixes"
   ]
  },
  {
   "cell_type": "code",
   "execution_count": 29,
   "metadata": {},
   "outputs": [],
   "source": [
    "countries = list(pa_train.country.unique())\n",
    "regions = list(pa_train.region.unique())\n",
    "species = list(pa_train.speciesId.unique())\n",
    "surveys = list(pa_train.surveyId.unique())"
   ]
  },
  {
   "cell_type": "code",
   "execution_count": 30,
   "metadata": {},
   "outputs": [],
   "source": [
    "years = list(pa_train.year.unique())\n",
    "years.sort()"
   ]
  },
  {
   "cell_type": "code",
   "execution_count": 31,
   "metadata": {},
   "outputs": [],
   "source": [
    "numerical_cols = ['lon', 'lat']#, 'geoUncertaintyInM', 'areaInM2']\n",
    "ordinal_cols = {\n",
    "    'year': years\n",
    "}\n",
    "categorical_cols = {\n",
    "    'region': regions,\n",
    "    'country': countries,\n",
    "    # 'speciesId': species,\n",
    "    # 'surveyId': surveys\n",
    "}"
   ]
  },
  {
   "cell_type": "code",
   "execution_count": 32,
   "metadata": {},
   "outputs": [],
   "source": [
    "pa_train = pa_train.drop(columns=['geoUncertaintyInM', 'areaInM2'])\n",
    "pa_test = pa_test.drop(columns=['geoUncertaintyInM', 'areaInM2'])"
   ]
  },
  {
   "cell_type": "code",
   "execution_count": 33,
   "metadata": {},
   "outputs": [],
   "source": [
    "# num_pipeline = Pipeline(steps=[\n",
    "#     ('scaler', StandardScaler())\n",
    "# ])"
   ]
  },
  {
   "cell_type": "code",
   "execution_count": 34,
   "metadata": {},
   "outputs": [],
   "source": [
    "# ord_pipeline = Pipeline(steps=[\n",
    "#     ('scaler', OrdinalEncoder(handle_unknown='use_encoded_value', unknown_value=-1))\n",
    "# ])"
   ]
  },
  {
   "cell_type": "code",
   "execution_count": 35,
   "metadata": {},
   "outputs": [],
   "source": [
    "# ohe_pipeline = Pipeline(steps=[\n",
    "#     ('encoder', OneHotEncoder())\n",
    "# ])"
   ]
  },
  {
   "cell_type": "code",
   "execution_count": 36,
   "metadata": {},
   "outputs": [],
   "source": [
    "# list(ordinal_cols)"
   ]
  },
  {
   "cell_type": "code",
   "execution_count": 37,
   "metadata": {},
   "outputs": [],
   "source": [
    "# col_trans = ColumnTransformer(transformers=[\n",
    "#     ('num', num_pipeline, numerical_cols),\n",
    "#     ('ord', ord_pipeline, list(ordinal_cols)),\n",
    "#     ('ohe', ohe_pipeline, list(categorical_cols))\n",
    "#     ],\n",
    "#     remainder='passthrough',\n",
    "#     n_jobs=-1\n",
    "# )"
   ]
  },
  {
   "cell_type": "code",
   "execution_count": 38,
   "metadata": {},
   "outputs": [],
   "source": [
    "# pipeline = Pipeline(steps=[\n",
    "#     ('preprocessor', col_trans),\n",
    "# ])"
   ]
  },
  {
   "cell_type": "code",
   "execution_count": 39,
   "metadata": {},
   "outputs": [
    {
     "data": {
      "text/plain": [
       "(42,)"
      ]
     },
     "execution_count": 39,
     "metadata": {},
     "output_type": "execute_result"
    }
   ],
   "source": [
    "transformer = make_column_transformer(\n",
    "    (OneHotEncoder(sparse_output=False), list(categorical_cols)),\n",
    "    remainder='passthrough')\n",
    "\n",
    "transformed = transformer.fit_transform(pa_train)\n",
    "transformer.get_feature_names_out().shape\n",
    "\n"
   ]
  },
  {
   "cell_type": "code",
   "execution_count": 40,
   "metadata": {},
   "outputs": [
    {
     "data": {
      "text/plain": [
       "(1483637, 42)"
      ]
     },
     "execution_count": 40,
     "metadata": {},
     "output_type": "execute_result"
    }
   ],
   "source": [
    "transformed.shape"
   ]
  },
  {
   "cell_type": "code",
   "execution_count": 41,
   "metadata": {},
   "outputs": [
    {
     "name": "stdout",
     "output_type": "stream",
     "text": [
      "(1483637, 7)\n",
      "(1483637, 42)\n"
     ]
    }
   ],
   "source": [
    "sk.set_config(enable_metadata_routing=True)\n",
    "\n",
    "pa_train_copy = pa_train.copy()\n",
    "print(pa_train_copy.shape)\n",
    "transformed = transformer.fit_transform(pa_train_copy)\n",
    "print(transformed.shape)"
   ]
  },
  {
   "cell_type": "code",
   "execution_count": 42,
   "metadata": {},
   "outputs": [],
   "source": [
    "transformed_df = pd.DataFrame(\n",
    "    transformer.fit_transform(pa_train),\n",
    "    columns=transformer.get_feature_names_out()\n",
    ")"
   ]
  },
  {
   "cell_type": "code",
   "execution_count": 43,
   "metadata": {},
   "outputs": [
    {
     "data": {
      "text/plain": [
       "(1483637, 42)"
      ]
     },
     "execution_count": 43,
     "metadata": {},
     "output_type": "execute_result"
    }
   ],
   "source": [
    "transformed_df.shape"
   ]
  },
  {
   "cell_type": "code",
   "execution_count": 44,
   "metadata": {},
   "outputs": [
    {
     "data": {
      "text/html": [
       "<div>\n",
       "<style scoped>\n",
       "    .dataframe tbody tr th:only-of-type {\n",
       "        vertical-align: middle;\n",
       "    }\n",
       "\n",
       "    .dataframe tbody tr th {\n",
       "        vertical-align: top;\n",
       "    }\n",
       "\n",
       "    .dataframe thead th {\n",
       "        text-align: right;\n",
       "    }\n",
       "</style>\n",
       "<table border=\"1\" class=\"dataframe\">\n",
       "  <thead>\n",
       "    <tr style=\"text-align: right;\">\n",
       "      <th></th>\n",
       "      <th>onehotencoder__region_ALPINE</th>\n",
       "      <th>onehotencoder__region_ATLANTIC</th>\n",
       "      <th>onehotencoder__region_BLACK SEA</th>\n",
       "      <th>onehotencoder__region_BOREAL</th>\n",
       "      <th>onehotencoder__region_CONTINENTAL</th>\n",
       "      <th>onehotencoder__region_MEDITERRANEAN</th>\n",
       "      <th>onehotencoder__region_PANNONIAN</th>\n",
       "      <th>onehotencoder__region_STEPPIC</th>\n",
       "      <th>onehotencoder__country_Andorra</th>\n",
       "      <th>onehotencoder__country_Austria</th>\n",
       "      <th>...</th>\n",
       "      <th>onehotencoder__country_Slovakia</th>\n",
       "      <th>onehotencoder__country_Slovenia</th>\n",
       "      <th>onehotencoder__country_Spain</th>\n",
       "      <th>onehotencoder__country_Switzerland</th>\n",
       "      <th>onehotencoder__country_The former Yugoslav Republic of Macedonia</th>\n",
       "      <th>remainder__lon</th>\n",
       "      <th>remainder__lat</th>\n",
       "      <th>remainder__year</th>\n",
       "      <th>remainder__speciesId</th>\n",
       "      <th>remainder__surveyId</th>\n",
       "    </tr>\n",
       "  </thead>\n",
       "  <tbody>\n",
       "    <tr>\n",
       "      <th>0</th>\n",
       "      <td>0.000</td>\n",
       "      <td>0.000</td>\n",
       "      <td>0.000</td>\n",
       "      <td>0.000</td>\n",
       "      <td>0.000</td>\n",
       "      <td>1.000</td>\n",
       "      <td>0.000</td>\n",
       "      <td>0.000</td>\n",
       "      <td>0.000</td>\n",
       "      <td>0.000</td>\n",
       "      <td>...</td>\n",
       "      <td>0.000</td>\n",
       "      <td>0.000</td>\n",
       "      <td>0.000</td>\n",
       "      <td>0.000</td>\n",
       "      <td>0.000</td>\n",
       "      <td>3.099</td>\n",
       "      <td>43.135</td>\n",
       "      <td>2,021.000</td>\n",
       "      <td>6,874.000</td>\n",
       "      <td>212.000</td>\n",
       "    </tr>\n",
       "    <tr>\n",
       "      <th>1</th>\n",
       "      <td>0.000</td>\n",
       "      <td>0.000</td>\n",
       "      <td>0.000</td>\n",
       "      <td>0.000</td>\n",
       "      <td>0.000</td>\n",
       "      <td>1.000</td>\n",
       "      <td>0.000</td>\n",
       "      <td>0.000</td>\n",
       "      <td>0.000</td>\n",
       "      <td>0.000</td>\n",
       "      <td>...</td>\n",
       "      <td>0.000</td>\n",
       "      <td>0.000</td>\n",
       "      <td>0.000</td>\n",
       "      <td>0.000</td>\n",
       "      <td>0.000</td>\n",
       "      <td>3.099</td>\n",
       "      <td>43.135</td>\n",
       "      <td>2,021.000</td>\n",
       "      <td>476.000</td>\n",
       "      <td>212.000</td>\n",
       "    </tr>\n",
       "    <tr>\n",
       "      <th>2</th>\n",
       "      <td>0.000</td>\n",
       "      <td>0.000</td>\n",
       "      <td>0.000</td>\n",
       "      <td>0.000</td>\n",
       "      <td>0.000</td>\n",
       "      <td>1.000</td>\n",
       "      <td>0.000</td>\n",
       "      <td>0.000</td>\n",
       "      <td>0.000</td>\n",
       "      <td>0.000</td>\n",
       "      <td>...</td>\n",
       "      <td>0.000</td>\n",
       "      <td>0.000</td>\n",
       "      <td>0.000</td>\n",
       "      <td>0.000</td>\n",
       "      <td>0.000</td>\n",
       "      <td>3.099</td>\n",
       "      <td>43.135</td>\n",
       "      <td>2,021.000</td>\n",
       "      <td>11,157.000</td>\n",
       "      <td>212.000</td>\n",
       "    </tr>\n",
       "    <tr>\n",
       "      <th>3</th>\n",
       "      <td>0.000</td>\n",
       "      <td>0.000</td>\n",
       "      <td>0.000</td>\n",
       "      <td>0.000</td>\n",
       "      <td>0.000</td>\n",
       "      <td>1.000</td>\n",
       "      <td>0.000</td>\n",
       "      <td>0.000</td>\n",
       "      <td>0.000</td>\n",
       "      <td>0.000</td>\n",
       "      <td>...</td>\n",
       "      <td>0.000</td>\n",
       "      <td>0.000</td>\n",
       "      <td>0.000</td>\n",
       "      <td>0.000</td>\n",
       "      <td>0.000</td>\n",
       "      <td>3.099</td>\n",
       "      <td>43.135</td>\n",
       "      <td>2,021.000</td>\n",
       "      <td>8,784.000</td>\n",
       "      <td>212.000</td>\n",
       "    </tr>\n",
       "    <tr>\n",
       "      <th>4</th>\n",
       "      <td>0.000</td>\n",
       "      <td>0.000</td>\n",
       "      <td>0.000</td>\n",
       "      <td>0.000</td>\n",
       "      <td>0.000</td>\n",
       "      <td>1.000</td>\n",
       "      <td>0.000</td>\n",
       "      <td>0.000</td>\n",
       "      <td>0.000</td>\n",
       "      <td>0.000</td>\n",
       "      <td>...</td>\n",
       "      <td>0.000</td>\n",
       "      <td>0.000</td>\n",
       "      <td>0.000</td>\n",
       "      <td>0.000</td>\n",
       "      <td>0.000</td>\n",
       "      <td>3.099</td>\n",
       "      <td>43.135</td>\n",
       "      <td>2,021.000</td>\n",
       "      <td>4,530.000</td>\n",
       "      <td>212.000</td>\n",
       "    </tr>\n",
       "  </tbody>\n",
       "</table>\n",
       "<p>5 rows × 42 columns</p>\n",
       "</div>"
      ],
      "text/plain": [
       "   onehotencoder__region_ALPINE  onehotencoder__region_ATLANTIC  \\\n",
       "0                         0.000                           0.000   \n",
       "1                         0.000                           0.000   \n",
       "2                         0.000                           0.000   \n",
       "3                         0.000                           0.000   \n",
       "4                         0.000                           0.000   \n",
       "\n",
       "   onehotencoder__region_BLACK SEA  onehotencoder__region_BOREAL  \\\n",
       "0                            0.000                         0.000   \n",
       "1                            0.000                         0.000   \n",
       "2                            0.000                         0.000   \n",
       "3                            0.000                         0.000   \n",
       "4                            0.000                         0.000   \n",
       "\n",
       "   onehotencoder__region_CONTINENTAL  onehotencoder__region_MEDITERRANEAN  \\\n",
       "0                              0.000                                1.000   \n",
       "1                              0.000                                1.000   \n",
       "2                              0.000                                1.000   \n",
       "3                              0.000                                1.000   \n",
       "4                              0.000                                1.000   \n",
       "\n",
       "   onehotencoder__region_PANNONIAN  onehotencoder__region_STEPPIC  \\\n",
       "0                            0.000                          0.000   \n",
       "1                            0.000                          0.000   \n",
       "2                            0.000                          0.000   \n",
       "3                            0.000                          0.000   \n",
       "4                            0.000                          0.000   \n",
       "\n",
       "   onehotencoder__country_Andorra  onehotencoder__country_Austria  ...  \\\n",
       "0                           0.000                           0.000  ...   \n",
       "1                           0.000                           0.000  ...   \n",
       "2                           0.000                           0.000  ...   \n",
       "3                           0.000                           0.000  ...   \n",
       "4                           0.000                           0.000  ...   \n",
       "\n",
       "   onehotencoder__country_Slovakia  onehotencoder__country_Slovenia  \\\n",
       "0                            0.000                            0.000   \n",
       "1                            0.000                            0.000   \n",
       "2                            0.000                            0.000   \n",
       "3                            0.000                            0.000   \n",
       "4                            0.000                            0.000   \n",
       "\n",
       "   onehotencoder__country_Spain  onehotencoder__country_Switzerland  \\\n",
       "0                         0.000                               0.000   \n",
       "1                         0.000                               0.000   \n",
       "2                         0.000                               0.000   \n",
       "3                         0.000                               0.000   \n",
       "4                         0.000                               0.000   \n",
       "\n",
       "   onehotencoder__country_The former Yugoslav Republic of Macedonia  \\\n",
       "0                                              0.000                  \n",
       "1                                              0.000                  \n",
       "2                                              0.000                  \n",
       "3                                              0.000                  \n",
       "4                                              0.000                  \n",
       "\n",
       "   remainder__lon  remainder__lat  remainder__year  remainder__speciesId  \\\n",
       "0           3.099          43.135        2,021.000             6,874.000   \n",
       "1           3.099          43.135        2,021.000               476.000   \n",
       "2           3.099          43.135        2,021.000            11,157.000   \n",
       "3           3.099          43.135        2,021.000             8,784.000   \n",
       "4           3.099          43.135        2,021.000             4,530.000   \n",
       "\n",
       "   remainder__surveyId  \n",
       "0              212.000  \n",
       "1              212.000  \n",
       "2              212.000  \n",
       "3              212.000  \n",
       "4              212.000  \n",
       "\n",
       "[5 rows x 42 columns]"
      ]
     },
     "execution_count": 44,
     "metadata": {},
     "output_type": "execute_result"
    }
   ],
   "source": [
    "transformed_df.head()"
   ]
  },
  {
   "cell_type": "code",
   "execution_count": 45,
   "metadata": {},
   "outputs": [],
   "source": [
    "X = transformed_df.drop(columns=['remainder__speciesId', 'remainder__surveyId'])\n",
    "y = pa_train.speciesId"
   ]
  },
  {
   "cell_type": "code",
   "execution_count": 46,
   "metadata": {},
   "outputs": [],
   "source": [
    "# X_preprocessed = pipeline.fit_transform(X)"
   ]
  },
  {
   "cell_type": "code",
   "execution_count": 47,
   "metadata": {},
   "outputs": [],
   "source": [
    "X_train, X_test, y_train, y_test = train_test_split(X, y, test_size=0.2, random_state=113)"
   ]
  },
  {
   "cell_type": "code",
   "execution_count": 48,
   "metadata": {},
   "outputs": [],
   "source": [
    "from sklearn.tree import DecisionTreeClassifier\n",
    "from sklearn.model_selection import GridSearchCV, StratifiedKFold"
   ]
  },
  {
   "cell_type": "code",
   "execution_count": 49,
   "metadata": {},
   "outputs": [],
   "source": [
    "dtc = DecisionTreeClassifier(random_state=113)"
   ]
  },
  {
   "cell_type": "code",
   "execution_count": 50,
   "metadata": {},
   "outputs": [
    {
     "data": {
      "text/plain": [
       "(1186909, 40)"
      ]
     },
     "execution_count": 50,
     "metadata": {},
     "output_type": "execute_result"
    }
   ],
   "source": [
    "X_train.shape"
   ]
  },
  {
   "cell_type": "code",
   "execution_count": 51,
   "metadata": {},
   "outputs": [],
   "source": [
    "param_grid = {\n",
    "    'min_samples_split': [5, 10, 15],\n",
    "    'max_depth': [10, 20, 30],\n",
    "    'min_samples_leaf': [1, 2, 4],\n",
    "    'criterion': ['gini', 'entropy']\n",
    "}"
   ]
  },
  {
   "cell_type": "code",
   "execution_count": 52,
   "metadata": {},
   "outputs": [],
   "source": [
    "CV_dtc = GridSearchCV(estimator=dtc, param_grid=param_grid, cv=StratifiedKFold(n_splits=5))"
   ]
  },
  {
   "cell_type": "code",
   "execution_count": null,
   "metadata": {},
   "outputs": [],
   "source": []
  },
  {
   "cell_type": "code",
   "execution_count": 53,
   "metadata": {},
   "outputs": [
    {
     "name": "stderr",
     "output_type": "stream",
     "text": [
      "/home/startung/mambaforge/envs/cuda-env/lib/python3.11/site-packages/sklearn/model_selection/_split.py:737: UserWarning: The least populated class in y has only 1 members, which is less than n_splits=5.\n",
      "  warnings.warn(\n"
     ]
    },
    {
     "data": {
      "text/html": [
       "<style>#sk-container-id-1 {\n",
       "  /* Definition of color scheme common for light and dark mode */\n",
       "  --sklearn-color-text: black;\n",
       "  --sklearn-color-line: gray;\n",
       "  /* Definition of color scheme for unfitted estimators */\n",
       "  --sklearn-color-unfitted-level-0: #fff5e6;\n",
       "  --sklearn-color-unfitted-level-1: #f6e4d2;\n",
       "  --sklearn-color-unfitted-level-2: #ffe0b3;\n",
       "  --sklearn-color-unfitted-level-3: chocolate;\n",
       "  /* Definition of color scheme for fitted estimators */\n",
       "  --sklearn-color-fitted-level-0: #f0f8ff;\n",
       "  --sklearn-color-fitted-level-1: #d4ebff;\n",
       "  --sklearn-color-fitted-level-2: #b3dbfd;\n",
       "  --sklearn-color-fitted-level-3: cornflowerblue;\n",
       "\n",
       "  /* Specific color for light theme */\n",
       "  --sklearn-color-text-on-default-background: var(--sg-text-color, var(--theme-code-foreground, var(--jp-content-font-color1, black)));\n",
       "  --sklearn-color-background: var(--sg-background-color, var(--theme-background, var(--jp-layout-color0, white)));\n",
       "  --sklearn-color-border-box: var(--sg-text-color, var(--theme-code-foreground, var(--jp-content-font-color1, black)));\n",
       "  --sklearn-color-icon: #696969;\n",
       "\n",
       "  @media (prefers-color-scheme: dark) {\n",
       "    /* Redefinition of color scheme for dark theme */\n",
       "    --sklearn-color-text-on-default-background: var(--sg-text-color, var(--theme-code-foreground, var(--jp-content-font-color1, white)));\n",
       "    --sklearn-color-background: var(--sg-background-color, var(--theme-background, var(--jp-layout-color0, #111)));\n",
       "    --sklearn-color-border-box: var(--sg-text-color, var(--theme-code-foreground, var(--jp-content-font-color1, white)));\n",
       "    --sklearn-color-icon: #878787;\n",
       "  }\n",
       "}\n",
       "\n",
       "#sk-container-id-1 {\n",
       "  color: var(--sklearn-color-text);\n",
       "}\n",
       "\n",
       "#sk-container-id-1 pre {\n",
       "  padding: 0;\n",
       "}\n",
       "\n",
       "#sk-container-id-1 input.sk-hidden--visually {\n",
       "  border: 0;\n",
       "  clip: rect(1px 1px 1px 1px);\n",
       "  clip: rect(1px, 1px, 1px, 1px);\n",
       "  height: 1px;\n",
       "  margin: -1px;\n",
       "  overflow: hidden;\n",
       "  padding: 0;\n",
       "  position: absolute;\n",
       "  width: 1px;\n",
       "}\n",
       "\n",
       "#sk-container-id-1 div.sk-dashed-wrapped {\n",
       "  border: 1px dashed var(--sklearn-color-line);\n",
       "  margin: 0 0.4em 0.5em 0.4em;\n",
       "  box-sizing: border-box;\n",
       "  padding-bottom: 0.4em;\n",
       "  background-color: var(--sklearn-color-background);\n",
       "}\n",
       "\n",
       "#sk-container-id-1 div.sk-container {\n",
       "  /* jupyter's `normalize.less` sets `[hidden] { display: none; }`\n",
       "     but bootstrap.min.css set `[hidden] { display: none !important; }`\n",
       "     so we also need the `!important` here to be able to override the\n",
       "     default hidden behavior on the sphinx rendered scikit-learn.org.\n",
       "     See: https://github.com/scikit-learn/scikit-learn/issues/21755 */\n",
       "  display: inline-block !important;\n",
       "  position: relative;\n",
       "}\n",
       "\n",
       "#sk-container-id-1 div.sk-text-repr-fallback {\n",
       "  display: none;\n",
       "}\n",
       "\n",
       "div.sk-parallel-item,\n",
       "div.sk-serial,\n",
       "div.sk-item {\n",
       "  /* draw centered vertical line to link estimators */\n",
       "  background-image: linear-gradient(var(--sklearn-color-text-on-default-background), var(--sklearn-color-text-on-default-background));\n",
       "  background-size: 2px 100%;\n",
       "  background-repeat: no-repeat;\n",
       "  background-position: center center;\n",
       "}\n",
       "\n",
       "/* Parallel-specific style estimator block */\n",
       "\n",
       "#sk-container-id-1 div.sk-parallel-item::after {\n",
       "  content: \"\";\n",
       "  width: 100%;\n",
       "  border-bottom: 2px solid var(--sklearn-color-text-on-default-background);\n",
       "  flex-grow: 1;\n",
       "}\n",
       "\n",
       "#sk-container-id-1 div.sk-parallel {\n",
       "  display: flex;\n",
       "  align-items: stretch;\n",
       "  justify-content: center;\n",
       "  background-color: var(--sklearn-color-background);\n",
       "  position: relative;\n",
       "}\n",
       "\n",
       "#sk-container-id-1 div.sk-parallel-item {\n",
       "  display: flex;\n",
       "  flex-direction: column;\n",
       "}\n",
       "\n",
       "#sk-container-id-1 div.sk-parallel-item:first-child::after {\n",
       "  align-self: flex-end;\n",
       "  width: 50%;\n",
       "}\n",
       "\n",
       "#sk-container-id-1 div.sk-parallel-item:last-child::after {\n",
       "  align-self: flex-start;\n",
       "  width: 50%;\n",
       "}\n",
       "\n",
       "#sk-container-id-1 div.sk-parallel-item:only-child::after {\n",
       "  width: 0;\n",
       "}\n",
       "\n",
       "/* Serial-specific style estimator block */\n",
       "\n",
       "#sk-container-id-1 div.sk-serial {\n",
       "  display: flex;\n",
       "  flex-direction: column;\n",
       "  align-items: center;\n",
       "  background-color: var(--sklearn-color-background);\n",
       "  padding-right: 1em;\n",
       "  padding-left: 1em;\n",
       "}\n",
       "\n",
       "\n",
       "/* Toggleable style: style used for estimator/Pipeline/ColumnTransformer box that is\n",
       "clickable and can be expanded/collapsed.\n",
       "- Pipeline and ColumnTransformer use this feature and define the default style\n",
       "- Estimators will overwrite some part of the style using the `sk-estimator` class\n",
       "*/\n",
       "\n",
       "/* Pipeline and ColumnTransformer style (default) */\n",
       "\n",
       "#sk-container-id-1 div.sk-toggleable {\n",
       "  /* Default theme specific background. It is overwritten whether we have a\n",
       "  specific estimator or a Pipeline/ColumnTransformer */\n",
       "  background-color: var(--sklearn-color-background);\n",
       "}\n",
       "\n",
       "/* Toggleable label */\n",
       "#sk-container-id-1 label.sk-toggleable__label {\n",
       "  cursor: pointer;\n",
       "  display: block;\n",
       "  width: 100%;\n",
       "  margin-bottom: 0;\n",
       "  padding: 0.5em;\n",
       "  box-sizing: border-box;\n",
       "  text-align: center;\n",
       "}\n",
       "\n",
       "#sk-container-id-1 label.sk-toggleable__label-arrow:before {\n",
       "  /* Arrow on the left of the label */\n",
       "  content: \"▸\";\n",
       "  float: left;\n",
       "  margin-right: 0.25em;\n",
       "  color: var(--sklearn-color-icon);\n",
       "}\n",
       "\n",
       "#sk-container-id-1 label.sk-toggleable__label-arrow:hover:before {\n",
       "  color: var(--sklearn-color-text);\n",
       "}\n",
       "\n",
       "/* Toggleable content - dropdown */\n",
       "\n",
       "#sk-container-id-1 div.sk-toggleable__content {\n",
       "  max-height: 0;\n",
       "  max-width: 0;\n",
       "  overflow: hidden;\n",
       "  text-align: left;\n",
       "  /* unfitted */\n",
       "  background-color: var(--sklearn-color-unfitted-level-0);\n",
       "}\n",
       "\n",
       "#sk-container-id-1 div.sk-toggleable__content.fitted {\n",
       "  /* fitted */\n",
       "  background-color: var(--sklearn-color-fitted-level-0);\n",
       "}\n",
       "\n",
       "#sk-container-id-1 div.sk-toggleable__content pre {\n",
       "  margin: 0.2em;\n",
       "  border-radius: 0.25em;\n",
       "  color: var(--sklearn-color-text);\n",
       "  /* unfitted */\n",
       "  background-color: var(--sklearn-color-unfitted-level-0);\n",
       "}\n",
       "\n",
       "#sk-container-id-1 div.sk-toggleable__content.fitted pre {\n",
       "  /* unfitted */\n",
       "  background-color: var(--sklearn-color-fitted-level-0);\n",
       "}\n",
       "\n",
       "#sk-container-id-1 input.sk-toggleable__control:checked~div.sk-toggleable__content {\n",
       "  /* Expand drop-down */\n",
       "  max-height: 200px;\n",
       "  max-width: 100%;\n",
       "  overflow: auto;\n",
       "}\n",
       "\n",
       "#sk-container-id-1 input.sk-toggleable__control:checked~label.sk-toggleable__label-arrow:before {\n",
       "  content: \"▾\";\n",
       "}\n",
       "\n",
       "/* Pipeline/ColumnTransformer-specific style */\n",
       "\n",
       "#sk-container-id-1 div.sk-label input.sk-toggleable__control:checked~label.sk-toggleable__label {\n",
       "  color: var(--sklearn-color-text);\n",
       "  background-color: var(--sklearn-color-unfitted-level-2);\n",
       "}\n",
       "\n",
       "#sk-container-id-1 div.sk-label.fitted input.sk-toggleable__control:checked~label.sk-toggleable__label {\n",
       "  background-color: var(--sklearn-color-fitted-level-2);\n",
       "}\n",
       "\n",
       "/* Estimator-specific style */\n",
       "\n",
       "/* Colorize estimator box */\n",
       "#sk-container-id-1 div.sk-estimator input.sk-toggleable__control:checked~label.sk-toggleable__label {\n",
       "  /* unfitted */\n",
       "  background-color: var(--sklearn-color-unfitted-level-2);\n",
       "}\n",
       "\n",
       "#sk-container-id-1 div.sk-estimator.fitted input.sk-toggleable__control:checked~label.sk-toggleable__label {\n",
       "  /* fitted */\n",
       "  background-color: var(--sklearn-color-fitted-level-2);\n",
       "}\n",
       "\n",
       "#sk-container-id-1 div.sk-label label.sk-toggleable__label,\n",
       "#sk-container-id-1 div.sk-label label {\n",
       "  /* The background is the default theme color */\n",
       "  color: var(--sklearn-color-text-on-default-background);\n",
       "}\n",
       "\n",
       "/* On hover, darken the color of the background */\n",
       "#sk-container-id-1 div.sk-label:hover label.sk-toggleable__label {\n",
       "  color: var(--sklearn-color-text);\n",
       "  background-color: var(--sklearn-color-unfitted-level-2);\n",
       "}\n",
       "\n",
       "/* Label box, darken color on hover, fitted */\n",
       "#sk-container-id-1 div.sk-label.fitted:hover label.sk-toggleable__label.fitted {\n",
       "  color: var(--sklearn-color-text);\n",
       "  background-color: var(--sklearn-color-fitted-level-2);\n",
       "}\n",
       "\n",
       "/* Estimator label */\n",
       "\n",
       "#sk-container-id-1 div.sk-label label {\n",
       "  font-family: monospace;\n",
       "  font-weight: bold;\n",
       "  display: inline-block;\n",
       "  line-height: 1.2em;\n",
       "}\n",
       "\n",
       "#sk-container-id-1 div.sk-label-container {\n",
       "  text-align: center;\n",
       "}\n",
       "\n",
       "/* Estimator-specific */\n",
       "#sk-container-id-1 div.sk-estimator {\n",
       "  font-family: monospace;\n",
       "  border: 1px dotted var(--sklearn-color-border-box);\n",
       "  border-radius: 0.25em;\n",
       "  box-sizing: border-box;\n",
       "  margin-bottom: 0.5em;\n",
       "  /* unfitted */\n",
       "  background-color: var(--sklearn-color-unfitted-level-0);\n",
       "}\n",
       "\n",
       "#sk-container-id-1 div.sk-estimator.fitted {\n",
       "  /* fitted */\n",
       "  background-color: var(--sklearn-color-fitted-level-0);\n",
       "}\n",
       "\n",
       "/* on hover */\n",
       "#sk-container-id-1 div.sk-estimator:hover {\n",
       "  /* unfitted */\n",
       "  background-color: var(--sklearn-color-unfitted-level-2);\n",
       "}\n",
       "\n",
       "#sk-container-id-1 div.sk-estimator.fitted:hover {\n",
       "  /* fitted */\n",
       "  background-color: var(--sklearn-color-fitted-level-2);\n",
       "}\n",
       "\n",
       "/* Specification for estimator info (e.g. \"i\" and \"?\") */\n",
       "\n",
       "/* Common style for \"i\" and \"?\" */\n",
       "\n",
       ".sk-estimator-doc-link,\n",
       "a:link.sk-estimator-doc-link,\n",
       "a:visited.sk-estimator-doc-link {\n",
       "  float: right;\n",
       "  font-size: smaller;\n",
       "  line-height: 1em;\n",
       "  font-family: monospace;\n",
       "  background-color: var(--sklearn-color-background);\n",
       "  border-radius: 1em;\n",
       "  height: 1em;\n",
       "  width: 1em;\n",
       "  text-decoration: none !important;\n",
       "  margin-left: 1ex;\n",
       "  /* unfitted */\n",
       "  border: var(--sklearn-color-unfitted-level-1) 1pt solid;\n",
       "  color: var(--sklearn-color-unfitted-level-1);\n",
       "}\n",
       "\n",
       ".sk-estimator-doc-link.fitted,\n",
       "a:link.sk-estimator-doc-link.fitted,\n",
       "a:visited.sk-estimator-doc-link.fitted {\n",
       "  /* fitted */\n",
       "  border: var(--sklearn-color-fitted-level-1) 1pt solid;\n",
       "  color: var(--sklearn-color-fitted-level-1);\n",
       "}\n",
       "\n",
       "/* On hover */\n",
       "div.sk-estimator:hover .sk-estimator-doc-link:hover,\n",
       ".sk-estimator-doc-link:hover,\n",
       "div.sk-label-container:hover .sk-estimator-doc-link:hover,\n",
       ".sk-estimator-doc-link:hover {\n",
       "  /* unfitted */\n",
       "  background-color: var(--sklearn-color-unfitted-level-3);\n",
       "  color: var(--sklearn-color-background);\n",
       "  text-decoration: none;\n",
       "}\n",
       "\n",
       "div.sk-estimator.fitted:hover .sk-estimator-doc-link.fitted:hover,\n",
       ".sk-estimator-doc-link.fitted:hover,\n",
       "div.sk-label-container:hover .sk-estimator-doc-link.fitted:hover,\n",
       ".sk-estimator-doc-link.fitted:hover {\n",
       "  /* fitted */\n",
       "  background-color: var(--sklearn-color-fitted-level-3);\n",
       "  color: var(--sklearn-color-background);\n",
       "  text-decoration: none;\n",
       "}\n",
       "\n",
       "/* Span, style for the box shown on hovering the info icon */\n",
       ".sk-estimator-doc-link span {\n",
       "  display: none;\n",
       "  z-index: 9999;\n",
       "  position: relative;\n",
       "  font-weight: normal;\n",
       "  right: .2ex;\n",
       "  padding: .5ex;\n",
       "  margin: .5ex;\n",
       "  width: min-content;\n",
       "  min-width: 20ex;\n",
       "  max-width: 50ex;\n",
       "  color: var(--sklearn-color-text);\n",
       "  box-shadow: 2pt 2pt 4pt #999;\n",
       "  /* unfitted */\n",
       "  background: var(--sklearn-color-unfitted-level-0);\n",
       "  border: .5pt solid var(--sklearn-color-unfitted-level-3);\n",
       "}\n",
       "\n",
       ".sk-estimator-doc-link.fitted span {\n",
       "  /* fitted */\n",
       "  background: var(--sklearn-color-fitted-level-0);\n",
       "  border: var(--sklearn-color-fitted-level-3);\n",
       "}\n",
       "\n",
       ".sk-estimator-doc-link:hover span {\n",
       "  display: block;\n",
       "}\n",
       "\n",
       "/* \"?\"-specific style due to the `<a>` HTML tag */\n",
       "\n",
       "#sk-container-id-1 a.estimator_doc_link {\n",
       "  float: right;\n",
       "  font-size: 1rem;\n",
       "  line-height: 1em;\n",
       "  font-family: monospace;\n",
       "  background-color: var(--sklearn-color-background);\n",
       "  border-radius: 1rem;\n",
       "  height: 1rem;\n",
       "  width: 1rem;\n",
       "  text-decoration: none;\n",
       "  /* unfitted */\n",
       "  color: var(--sklearn-color-unfitted-level-1);\n",
       "  border: var(--sklearn-color-unfitted-level-1) 1pt solid;\n",
       "}\n",
       "\n",
       "#sk-container-id-1 a.estimator_doc_link.fitted {\n",
       "  /* fitted */\n",
       "  border: var(--sklearn-color-fitted-level-1) 1pt solid;\n",
       "  color: var(--sklearn-color-fitted-level-1);\n",
       "}\n",
       "\n",
       "/* On hover */\n",
       "#sk-container-id-1 a.estimator_doc_link:hover {\n",
       "  /* unfitted */\n",
       "  background-color: var(--sklearn-color-unfitted-level-3);\n",
       "  color: var(--sklearn-color-background);\n",
       "  text-decoration: none;\n",
       "}\n",
       "\n",
       "#sk-container-id-1 a.estimator_doc_link.fitted:hover {\n",
       "  /* fitted */\n",
       "  background-color: var(--sklearn-color-fitted-level-3);\n",
       "}\n",
       "</style><div id=\"sk-container-id-1\" class=\"sk-top-container\"><div class=\"sk-text-repr-fallback\"><pre>GridSearchCV(cv=StratifiedKFold(n_splits=5, random_state=None, shuffle=False),\n",
       "             estimator=DecisionTreeClassifier(random_state=113),\n",
       "             param_grid={&#x27;criterion&#x27;: [&#x27;gini&#x27;, &#x27;entropy&#x27;],\n",
       "                         &#x27;max_depth&#x27;: [10, 20, 30],\n",
       "                         &#x27;min_samples_leaf&#x27;: [1, 2, 4],\n",
       "                         &#x27;min_samples_split&#x27;: [5, 10, 15]})</pre><b>In a Jupyter environment, please rerun this cell to show the HTML representation or trust the notebook. <br />On GitHub, the HTML representation is unable to render, please try loading this page with nbviewer.org.</b></div><div class=\"sk-container\" hidden><div class=\"sk-item sk-dashed-wrapped\"><div class=\"sk-label-container\"><div class=\"sk-label fitted sk-toggleable\"><input class=\"sk-toggleable__control sk-hidden--visually\" id=\"sk-estimator-id-1\" type=\"checkbox\" ><label for=\"sk-estimator-id-1\" class=\"sk-toggleable__label fitted sk-toggleable__label-arrow fitted\">&nbsp;&nbsp;GridSearchCV<a class=\"sk-estimator-doc-link fitted\" rel=\"noreferrer\" target=\"_blank\" href=\"https://scikit-learn.org/1.4/modules/generated/sklearn.model_selection.GridSearchCV.html\">?<span>Documentation for GridSearchCV</span></a><span class=\"sk-estimator-doc-link fitted\">i<span>Fitted</span></span></label><div class=\"sk-toggleable__content fitted\"><pre>GridSearchCV(cv=StratifiedKFold(n_splits=5, random_state=None, shuffle=False),\n",
       "             estimator=DecisionTreeClassifier(random_state=113),\n",
       "             param_grid={&#x27;criterion&#x27;: [&#x27;gini&#x27;, &#x27;entropy&#x27;],\n",
       "                         &#x27;max_depth&#x27;: [10, 20, 30],\n",
       "                         &#x27;min_samples_leaf&#x27;: [1, 2, 4],\n",
       "                         &#x27;min_samples_split&#x27;: [5, 10, 15]})</pre></div> </div></div><div class=\"sk-parallel\"><div class=\"sk-parallel-item\"><div class=\"sk-item\"><div class=\"sk-label-container\"><div class=\"sk-label fitted sk-toggleable\"><input class=\"sk-toggleable__control sk-hidden--visually\" id=\"sk-estimator-id-2\" type=\"checkbox\" ><label for=\"sk-estimator-id-2\" class=\"sk-toggleable__label fitted sk-toggleable__label-arrow fitted\">estimator: DecisionTreeClassifier</label><div class=\"sk-toggleable__content fitted\"><pre>DecisionTreeClassifier(random_state=113)</pre></div> </div></div><div class=\"sk-serial\"><div class=\"sk-item\"><div class=\"sk-estimator fitted sk-toggleable\"><input class=\"sk-toggleable__control sk-hidden--visually\" id=\"sk-estimator-id-3\" type=\"checkbox\" ><label for=\"sk-estimator-id-3\" class=\"sk-toggleable__label fitted sk-toggleable__label-arrow fitted\">&nbsp;DecisionTreeClassifier<a class=\"sk-estimator-doc-link fitted\" rel=\"noreferrer\" target=\"_blank\" href=\"https://scikit-learn.org/1.4/modules/generated/sklearn.tree.DecisionTreeClassifier.html\">?<span>Documentation for DecisionTreeClassifier</span></a></label><div class=\"sk-toggleable__content fitted\"><pre>DecisionTreeClassifier(random_state=113)</pre></div> </div></div></div></div></div></div></div></div></div>"
      ],
      "text/plain": [
       "GridSearchCV(cv=StratifiedKFold(n_splits=5, random_state=None, shuffle=False),\n",
       "             estimator=DecisionTreeClassifier(random_state=113),\n",
       "             param_grid={'criterion': ['gini', 'entropy'],\n",
       "                         'max_depth': [10, 20, 30],\n",
       "                         'min_samples_leaf': [1, 2, 4],\n",
       "                         'min_samples_split': [5, 10, 15]})"
      ]
     },
     "execution_count": 53,
     "metadata": {},
     "output_type": "execute_result"
    }
   ],
   "source": [
    "CV_dtc.fit(X_train, y_train)\n",
    "# CV_dtc.fit(X_train.iloc[:1000], y_train.iloc[:1000])\n",
    "# dtc.fit(X_train.iloc[:1000], y_train.iloc[:1000])"
   ]
  },
  {
   "cell_type": "code",
   "execution_count": 54,
   "metadata": {},
   "outputs": [
    {
     "name": "stdout",
     "output_type": "stream",
     "text": [
      "Best params: {'criterion': 'entropy', 'max_depth': 10, 'min_samples_leaf': 1, 'min_samples_split': 5}\n",
      "Best score: 0.03203615460699405\n"
     ]
    }
   ],
   "source": [
    "print(f'Best params: {CV_dtc.best_params_}')\n",
    "print(f'Best score: {CV_dtc.best_score_}')"
   ]
  },
  {
   "cell_type": "markdown",
   "metadata": {},
   "source": [
    "### Presence-Only (PO) occurrences\n",
    "\n",
    "Combines around five million observations from numerous datasets gathered from the Global Biodiversity Information Facility (GBIF, www.gbif.org). This data constitutes the larger piece of the training data and covers all countries of our study area, but it has been sampled opportunistically (without standardized sampling protocol), leading to various sampling biases. The local absence of a species among PO data doesn't mean it is truly absent. An observer might not have reported it because it was difficult to \"see\" it at this time of the year, to identify it as not a monitoring target, or just unattractive."
   ]
  },
  {
   "cell_type": "code",
   "execution_count": 55,
   "metadata": {},
   "outputs": [],
   "source": [
    "po_train = pd.read_csv('data/GLC24_P0_metadata_train.csv')"
   ]
  }
 ],
 "metadata": {
  "kernelspec": {
   "display_name": ".venv",
   "language": "python",
   "name": "python3"
  },
  "language_info": {
   "codemirror_mode": {
    "name": "ipython",
    "version": 3
   },
   "file_extension": ".py",
   "mimetype": "text/x-python",
   "name": "python",
   "nbconvert_exporter": "python",
   "pygments_lexer": "ipython3",
   "version": "3.11.8"
  }
 },
 "nbformat": 4,
 "nbformat_minor": 2
}
