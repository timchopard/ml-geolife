{
 "cells": [
  {
   "cell_type": "code",
   "execution_count": 29,
   "metadata": {},
   "outputs": [
    {
     "name": "stdout",
     "output_type": "stream",
     "text": [
      "Processing data\n",
      "\n",
      "Load data\n"
     ]
    }
   ],
   "source": [
    "# Data Processor\n",
    "#\n",
    "# Desired output\n",
    "# - Full train dataset - for training model for Kaggle submission\n",
    "# - Full test dataset - for Kaggle submission\n",
    "# - Internal train dataset - 80% of full train dataset for internal banchmarking\n",
    "# - Internal test dataset - 20% of full train dataset for internal benchmarking\n",
    "# - All tabular data in one file\n",
    "\n",
    "import pandas as pd\n",
    "import numpy as np\n",
    "import os\n",
    "from PIL import Image\n",
    "from tqdm import tqdm\n",
    "import shutil\n",
    "\n",
    "\n",
    "print(\"Processing data\\n\")\n",
    "\n",
    "# Load data\n",
    "print(\"Load data\")\n",
    "train_df = pd.read_pickle(\"processed_data/top500-train/top500-train.pkl\")"
   ]
  },
  {
   "cell_type": "code",
   "execution_count": 30,
   "metadata": {},
   "outputs": [
    {
     "data": {
      "text/plain": [
       "(87396, 1488)"
      ]
     },
     "execution_count": 30,
     "metadata": {},
     "output_type": "execute_result"
    }
   ],
   "source": [
    "train_df.shape"
   ]
  },
  {
   "cell_type": "code",
   "execution_count": 31,
   "metadata": {},
   "outputs": [],
   "source": [
    "internal_train_df = train_df.sample(frac = 0.8, random_state = 113)\n",
    "internal_test_df = train_df.drop(internal_train_df.index)"
   ]
  },
  {
   "cell_type": "code",
   "execution_count": 32,
   "metadata": {},
   "outputs": [
    {
     "name": "stdout",
     "output_type": "stream",
     "text": [
      "internal_train_df.shape=(69917, 1488)\n",
      "internal_test_df.shape=(17479, 1488)\n"
     ]
    }
   ],
   "source": [
    "print(f\"{internal_train_df.shape=}\")\n",
    "print(f\"{internal_test_df.shape=}\")"
   ]
  },
  {
   "cell_type": "code",
   "execution_count": 33,
   "metadata": {},
   "outputs": [
    {
     "name": "stdout",
     "output_type": "stream",
     "text": [
      "Export internal training data\n",
      " - Make directory\n"
     ]
    }
   ],
   "source": [
    "print(\"Export internal training data\")\n",
    "print(\" - Make directory\")\n",
    "if not os.path.exists(\"processed_data/internal\"):\n",
    "    os.makedirs(\"processed_data/internal\")\n",
    "if not os.path.exists(\"processed_data/internal/train_images\"):\n",
    "    os.makedirs(\"processed_data/internal/train_images\")"
   ]
  },
  {
   "cell_type": "code",
   "execution_count": 34,
   "metadata": {},
   "outputs": [
    {
     "name": "stdout",
     "output_type": "stream",
     "text": [
      " - Export tabular data\n"
     ]
    }
   ],
   "source": [
    "print(\" - Export tabular data\")\n",
    "internal_train_df.to_pickle(\"processed_data/internal/internal_train.pkl\")"
   ]
  },
  {
   "cell_type": "code",
   "execution_count": 35,
   "metadata": {},
   "outputs": [
    {
     "data": {
      "text/html": [
       "<div>\n",
       "<style scoped>\n",
       "    .dataframe tbody tr th:only-of-type {\n",
       "        vertical-align: middle;\n",
       "    }\n",
       "\n",
       "    .dataframe tbody tr th {\n",
       "        vertical-align: top;\n",
       "    }\n",
       "\n",
       "    .dataframe thead th {\n",
       "        text-align: right;\n",
       "    }\n",
       "</style>\n",
       "<table border=\"1\" class=\"dataframe\">\n",
       "  <thead>\n",
       "    <tr style=\"text-align: right;\">\n",
       "      <th></th>\n",
       "      <th>surveyId</th>\n",
       "      <th>lon</th>\n",
       "      <th>lat</th>\n",
       "      <th>year</th>\n",
       "      <th>geoUncertaintyInM</th>\n",
       "      <th>areaInM2</th>\n",
       "      <th>Bio1</th>\n",
       "      <th>Bio2</th>\n",
       "      <th>Bio3</th>\n",
       "      <th>Bio4</th>\n",
       "      <th>...</th>\n",
       "      <th>speciesId_10991</th>\n",
       "      <th>speciesId_10998</th>\n",
       "      <th>speciesId_11005</th>\n",
       "      <th>speciesId_11054</th>\n",
       "      <th>speciesId_11078</th>\n",
       "      <th>speciesId_11120</th>\n",
       "      <th>speciesId_11140</th>\n",
       "      <th>speciesId_11157</th>\n",
       "      <th>speciesId_11193</th>\n",
       "      <th>speciesId_11195</th>\n",
       "    </tr>\n",
       "  </thead>\n",
       "  <tbody>\n",
       "    <tr>\n",
       "      <th>27540</th>\n",
       "      <td>1233260</td>\n",
       "      <td>10.026100</td>\n",
       "      <td>55.231480</td>\n",
       "      <td>2018</td>\n",
       "      <td>10.0</td>\n",
       "      <td>79.0</td>\n",
       "      <td>2819</td>\n",
       "      <td>44</td>\n",
       "      <td>2</td>\n",
       "      <td>5649</td>\n",
       "      <td>...</td>\n",
       "      <td>False</td>\n",
       "      <td>False</td>\n",
       "      <td>False</td>\n",
       "      <td>False</td>\n",
       "      <td>False</td>\n",
       "      <td>False</td>\n",
       "      <td>False</td>\n",
       "      <td>False</td>\n",
       "      <td>False</td>\n",
       "      <td>False</td>\n",
       "    </tr>\n",
       "    <tr>\n",
       "      <th>14388</th>\n",
       "      <td>645374</td>\n",
       "      <td>11.809192</td>\n",
       "      <td>46.086903</td>\n",
       "      <td>2018</td>\n",
       "      <td>10.0</td>\n",
       "      <td>100.0</td>\n",
       "      <td>2760</td>\n",
       "      <td>91</td>\n",
       "      <td>3</td>\n",
       "      <td>6798</td>\n",
       "      <td>...</td>\n",
       "      <td>False</td>\n",
       "      <td>False</td>\n",
       "      <td>False</td>\n",
       "      <td>False</td>\n",
       "      <td>False</td>\n",
       "      <td>False</td>\n",
       "      <td>False</td>\n",
       "      <td>False</td>\n",
       "      <td>False</td>\n",
       "      <td>False</td>\n",
       "    </tr>\n",
       "    <tr>\n",
       "      <th>56427</th>\n",
       "      <td>2539031</td>\n",
       "      <td>14.889000</td>\n",
       "      <td>55.127910</td>\n",
       "      <td>2017</td>\n",
       "      <td>10.0</td>\n",
       "      <td>79.0</td>\n",
       "      <td>2811</td>\n",
       "      <td>19</td>\n",
       "      <td>1</td>\n",
       "      <td>5513</td>\n",
       "      <td>...</td>\n",
       "      <td>False</td>\n",
       "      <td>False</td>\n",
       "      <td>False</td>\n",
       "      <td>False</td>\n",
       "      <td>False</td>\n",
       "      <td>False</td>\n",
       "      <td>False</td>\n",
       "      <td>False</td>\n",
       "      <td>False</td>\n",
       "      <td>False</td>\n",
       "    </tr>\n",
       "    <tr>\n",
       "      <th>31056</th>\n",
       "      <td>1388787</td>\n",
       "      <td>9.775561</td>\n",
       "      <td>51.447618</td>\n",
       "      <td>2017</td>\n",
       "      <td>5.0</td>\n",
       "      <td>25.0</td>\n",
       "      <td>2816</td>\n",
       "      <td>70</td>\n",
       "      <td>2</td>\n",
       "      <td>6054</td>\n",
       "      <td>...</td>\n",
       "      <td>False</td>\n",
       "      <td>True</td>\n",
       "      <td>False</td>\n",
       "      <td>False</td>\n",
       "      <td>False</td>\n",
       "      <td>False</td>\n",
       "      <td>False</td>\n",
       "      <td>False</td>\n",
       "      <td>False</td>\n",
       "      <td>False</td>\n",
       "    </tr>\n",
       "    <tr>\n",
       "      <th>47984</th>\n",
       "      <td>2158677</td>\n",
       "      <td>4.997110</td>\n",
       "      <td>48.619160</td>\n",
       "      <td>2019</td>\n",
       "      <td>1.0</td>\n",
       "      <td>100.0</td>\n",
       "      <td>2840</td>\n",
       "      <td>73</td>\n",
       "      <td>3</td>\n",
       "      <td>5967</td>\n",
       "      <td>...</td>\n",
       "      <td>False</td>\n",
       "      <td>False</td>\n",
       "      <td>True</td>\n",
       "      <td>False</td>\n",
       "      <td>False</td>\n",
       "      <td>False</td>\n",
       "      <td>False</td>\n",
       "      <td>False</td>\n",
       "      <td>False</td>\n",
       "      <td>False</td>\n",
       "    </tr>\n",
       "  </tbody>\n",
       "</table>\n",
       "<p>5 rows × 1488 columns</p>\n",
       "</div>"
      ],
      "text/plain": [
       "       surveyId        lon        lat  year  geoUncertaintyInM  areaInM2  \\\n",
       "27540   1233260  10.026100  55.231480  2018               10.0      79.0   \n",
       "14388    645374  11.809192  46.086903  2018               10.0     100.0   \n",
       "56427   2539031  14.889000  55.127910  2017               10.0      79.0   \n",
       "31056   1388787   9.775561  51.447618  2017                5.0      25.0   \n",
       "47984   2158677   4.997110  48.619160  2019                1.0     100.0   \n",
       "\n",
       "       Bio1  Bio2  Bio3  Bio4  ...  speciesId_10991  speciesId_10998  \\\n",
       "27540  2819    44     2  5649  ...            False            False   \n",
       "14388  2760    91     3  6798  ...            False            False   \n",
       "56427  2811    19     1  5513  ...            False            False   \n",
       "31056  2816    70     2  6054  ...            False             True   \n",
       "47984  2840    73     3  5967  ...            False            False   \n",
       "\n",
       "       speciesId_11005  speciesId_11054  speciesId_11078  speciesId_11120  \\\n",
       "27540            False            False            False            False   \n",
       "14388            False            False            False            False   \n",
       "56427            False            False            False            False   \n",
       "31056            False            False            False            False   \n",
       "47984             True            False            False            False   \n",
       "\n",
       "       speciesId_11140  speciesId_11157  speciesId_11193  speciesId_11195  \n",
       "27540            False            False            False            False  \n",
       "14388            False            False            False            False  \n",
       "56427            False            False            False            False  \n",
       "31056            False            False            False            False  \n",
       "47984            False            False            False            False  \n",
       "\n",
       "[5 rows x 1488 columns]"
      ]
     },
     "execution_count": 35,
     "metadata": {},
     "output_type": "execute_result"
    }
   ],
   "source": [
    "internal_train_df.head()"
   ]
  },
  {
   "cell_type": "code",
   "execution_count": 36,
   "metadata": {},
   "outputs": [
    {
     "name": "stdout",
     "output_type": "stream",
     "text": [
      " - Copying over images\n"
     ]
    },
    {
     "name": "stderr",
     "output_type": "stream",
     "text": [
      "100%|██████████| 69917/69917 [00:48<00:00, 1446.90it/s]\n"
     ]
    }
   ],
   "source": [
    "print(\" - Copying over images\")\n",
    "for survey_id in tqdm(internal_train_df.surveyId):\n",
    "    shutil.copy(f\"processed_data/top500-train/top500-train_images/{survey_id}.png\", f\"processed_data/internal/train_images/{survey_id}.png\")"
   ]
  },
  {
   "cell_type": "code",
   "execution_count": 42,
   "metadata": {},
   "outputs": [
    {
     "name": "stdout",
     "output_type": "stream",
     "text": [
      "Make test data\n",
      " - Make directory\n"
     ]
    }
   ],
   "source": [
    "print(\"Make test data\")\n",
    "print(\" - Make directory\")\n",
    "if not os.path.exists(\"processed_data/internal/test_images\"):\n",
    "    os.makedirs(\"processed_data/internal/test_images\")"
   ]
  },
  {
   "cell_type": "code",
   "execution_count": 61,
   "metadata": {},
   "outputs": [],
   "source": [
    "print(\"Split data\")\n",
    "internal_test_X_df = internal_test_df.loc[:,~internal_test_df.columns.str.startswith('speciesId_')]\n",
    "species_columns = ['surveyId'] + list(internal_test_df.columns[internal_test_df.columns.str.startswith('speciesId_')])\n",
    "internal_test_y_df = internal_test_df.loc[:,species_columns]"
   ]
  },
  {
   "cell_type": "code",
   "execution_count": 63,
   "metadata": {},
   "outputs": [
    {
     "name": "stdout",
     "output_type": "stream",
     "text": [
      "Save data\n",
      " - test data\n"
     ]
    }
   ],
   "source": [
    "print(\"Save data\")\n",
    "print(\" - test data\")\n",
    "internal_test_X_df.to_pickle(\"processed_data/internal/internal_test_X.pkl\")"
   ]
  },
  {
   "cell_type": "code",
   "execution_count": 64,
   "metadata": {},
   "outputs": [
    {
     "name": "stdout",
     "output_type": "stream",
     "text": [
      " - Copying over images\n"
     ]
    },
    {
     "name": "stderr",
     "output_type": "stream",
     "text": [
      "100%|██████████| 17479/17479 [00:09<00:00, 1900.57it/s]\n"
     ]
    }
   ],
   "source": [
    "print(\" - Copying over images\")\n",
    "for survey_id in tqdm(internal_test_df.surveyId):\n",
    "    shutil.copy(f\"processed_data/top500-train/top500-train_images/{survey_id}.png\", f\"processed_data/internal/test_images/{survey_id}.png\")"
   ]
  },
  {
   "cell_type": "code",
   "execution_count": 74,
   "metadata": {},
   "outputs": [],
   "source": [
    "species = [column[10:] for column in species_columns[1:]]"
   ]
  },
  {
   "cell_type": "code",
   "execution_count": 81,
   "metadata": {},
   "outputs": [
    {
     "name": "stderr",
     "output_type": "stream",
     "text": [
      "/tmp/ipykernel_27405/877506001.py:4: FutureWarning: Series.__getitem__ treating keys as positions is deprecated. In a future version, integer keys will always be treated as labels (consistent with DataFrame behavior). To access a value by position, use `ser.iloc[pos]`\n",
      "  f.write(str(row[0]) + \",\" + \" \".join([species[i] for i in range(1, len(row)) if row[i] == 1]) + \"\\n\")\n"
     ]
    }
   ],
   "source": [
    "with open(\"processed_data/internal/submission.csv\", \"w\") as f:\n",
    "    f.write(\"surveyId,speciesId\\n\")\n",
    "    for _, row in internal_test_y_df.iterrows():\n",
    "        f.write(str(row[0]) + \",\" + \" \".join([species[i] for i in range(1, len(row)) if row[i] == 1]) + \"\\n\")"
   ]
  }
 ],
 "metadata": {
  "kernelspec": {
   "display_name": "tf",
   "language": "python",
   "name": "python3"
  },
  "language_info": {
   "codemirror_mode": {
    "name": "ipython",
    "version": 3
   },
   "file_extension": ".py",
   "mimetype": "text/x-python",
   "name": "python",
   "nbconvert_exporter": "python",
   "pygments_lexer": "ipython3",
   "version": "3.11.8"
  }
 },
 "nbformat": 4,
 "nbformat_minor": 2
}
