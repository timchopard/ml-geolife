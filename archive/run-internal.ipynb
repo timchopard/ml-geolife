{
 "cells": [
  {
   "cell_type": "markdown",
   "metadata": {},
   "source": [
    "# Run Internal Test"
   ]
  },
  {
   "cell_type": "code",
   "execution_count": 3,
   "metadata": {},
   "outputs": [
    {
     "name": "stdout",
     "output_type": "stream",
     "text": [
      "['249 694 963 976 1264 1497 1888 1910 2142 2386 3722 5071 6118 6788 7322 7999 8208 9024 9028 9341 9647 10315 10317 10896 11140'\n",
      " '51 476 982 1254 1276 1497 1736 2386 2474 2634 3251 3935 4003 4530 5412 5474 6039 6874 7706 8208 9458 10073 10909 11157 11193'\n",
      " '51 476 982 1254 1276 1497 1736 2386 2474 2634 3251 3935 4003 4530 5412 5474 6039 6874 7706 8208 9458 10073 10909 11157 11193'\n",
      " ...\n",
      " '254 540 581 963 1964 2885 4397 4499 4638 6310 6491 6643 6962 7121 8431 8818 9072 9465 9707 9816 10073 10317 10600 11140 11195'\n",
      " '254 540 581 963 1964 2885 4397 4499 4638 6310 6491 6643 6962 7121 8431 8818 9072 9465 9707 9816 10073 10317 10600 11140 11195'\n",
      " '254 540 581 963 1964 2885 4397 4499 4638 6310 6491 6643 6962 7121 8431 8818 9072 9465 9707 9816 10073 10317 10600 11140 11195']\n",
      "['254 799 958 976 1910 2142 2386 2482 3177 3935 4483 5745 6118 6643 6788 6962 7322 7371 7999 8208 9028 9647 10315 10896'\n",
      " '5018' '1051 3803 4892 7244 10950' ...\n",
      " '96 540 2961 3722 4077 4397 4499 4638 6119 7739 8431 8747 9024 10255 10317 10927'\n",
      " '96 249 254 423 540 581 1180 1964 3123 3161 3497 3722 4397 4499 4598 4638 5850 6643 6746 6903 7121 7566 7808 8124 8431 8747 8748 8760 8818 9024 9072 9207 9311 9376 9465 10218 10317 10474 11140'\n",
      " '254 643 1910 2262 2885 3161 6310 9005 9707 9816 10274']\n",
      "F1: 0.24\n"
     ]
    }
   ],
   "source": [
    "import numpy as np\n",
    "\n",
    "y_prediction = np.loadtxt(\"submission-top25.csv\", delimiter=\",\", skiprows=1, usecols=1, dtype=str)\n",
    "y_actual = np.loadtxt(\"submission-actual.csv\", delimiter=\",\", skiprows=1, usecols=1, dtype=str)\n",
    "\n",
    "print(y_prediction)\n",
    "print(y_actual)\n",
    "\n",
    "f1_i_total = 0\n",
    "\n",
    "for idx, (prediction, actual) in enumerate(zip(y_prediction, y_actual)):\n",
    "    prediction_set = set(prediction.split())\n",
    "    actual_set = set(actual.split())\n",
    "    tp = len(prediction_set.intersection(actual_set))\n",
    "    fp = len(prediction_set.difference(actual_set))\n",
    "    fn = len(actual_set.difference(prediction_set))\n",
    "    f1_i = 1 if fp + fn == 0 else tp / (tp + 0.5 * (fp + fn))\n",
    "    f1_i_total += f1_i\n",
    "\n",
    "f_1 = f1_i_total / len(y_actual)\n",
    "print(f\"F1: {f_1:.2f}\")"
   ]
  }
 ],
 "metadata": {
  "kernelspec": {
   "display_name": "tf",
   "language": "python",
   "name": "python3"
  },
  "language_info": {
   "codemirror_mode": {
    "name": "ipython",
    "version": 3
   },
   "file_extension": ".py",
   "mimetype": "text/x-python",
   "name": "python",
   "nbconvert_exporter": "python",
   "pygments_lexer": "ipython3",
   "version": "3.11.8"
  }
 },
 "nbformat": 4,
 "nbformat_minor": 2
}
